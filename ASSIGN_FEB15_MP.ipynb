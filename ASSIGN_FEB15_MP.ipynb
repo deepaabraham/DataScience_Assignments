{
 "cells": [
  {
   "cell_type": "markdown",
   "id": "80bb2409-23f4-4875-9aa6-943194444981",
   "metadata": {},
   "source": [
    " 1.\n",
    " \n",
    "Multiprocessing in Python refers to the ability to create and run multiple processes concurrently to achieve parallelism.\n",
    "A process is an independent program that runs separately from other processes, and each process has its own memory space.\n",
    "The main uses of this multiprocessing are:\n",
    "\n",
    "1.Multiprocessing helps to execute multiple tasks or functions simultaneously, taking advantage of multiple CPU cores\n",
    "which speed up the execution of programs.\n",
    "\n",
    "2.Each process has its own memory space, which is advantageous for certain tasks where isolation of data is important. \n",
    "\n",
    "3.GIL (Global Interpreter Lock) Bypass- In Python, the Global Interpreter Lock (GIL) ensures that only one thread executes at a time, limiting the parallelism in multithreaded programs. Multiprocessing allows to bypass the GIL by running code in separate processes, enabling better parallelism.\n",
    "\n",
    "4.If one process crashes or encounters an error, it does not affect other processes. \n",
    "\n",
    "\n"
   ]
  },
  {
   "cell_type": "markdown",
   "id": "57ec3bd9-3f81-436e-8b24-689dbc90ee70",
   "metadata": {},
   "source": [
    "2. Both multiprocessing and multithreading  are used to achieve concurrency.\n",
    "In multiprocessing, multiple independent processes are created, each with its own memory space.\n",
    "These processes run concurrently and communicate through interprocess communication mechanisms. Processes have higher overhead due to separate memory spaces. While in multithreading, multiple threads run within the same process, sharing the same memory space.Threads have lower overhead than processes. \n",
    "Processes are isolated from each other, and changes in the memory space of one process do not affect others. Threads share the same memory space, so changes made by one thread directly affect others.\n",
    "Multiprocessing can effectively bypass the GIL limitation in Python, allowing for parallel execution of Python code. All threads within a process share the same GIL. The GIL limits the parallelism in Python.\n",
    "If one process crashes, it does not affect others. This provides a higher level of fault tolerance.If one thread encounters an error, it can potentially affect the entire process, reducing fault tolerance."
   ]
  },
  {
   "cell_type": "markdown",
   "id": "e87fb840-8339-4bed-89dd-e2bb13deff65",
   "metadata": {},
   "source": [
    "3."
   ]
  },
  {
   "cell_type": "code",
   "execution_count": 3,
   "id": "acc1cdb3-e303-484d-837c-5d9f10450e8e",
   "metadata": {},
   "outputs": [
    {
     "name": "stdout",
     "output_type": "stream",
     "text": [
      "[1, 8, 64, 32768, 1728, 125, 729, 12167]\n"
     ]
    }
   ],
   "source": [
    "import multiprocessing\n",
    "\n",
    "def cubee(x):\n",
    "    return(x**3)\n",
    "\n",
    "if __name__==\"__main__\":\n",
    "    with multiprocessing.Pool(processes=3) as pool:\n",
    "        out=pool.map(cubee,[1,2,4,32,12,5,9,23])\n",
    "        print(out)\n",
    "        \n",
    "    "
   ]
  },
  {
   "cell_type": "markdown",
   "id": "c2ffddc6-f9da-49b4-b2e2-e9eb56c8e522",
   "metadata": {},
   "source": [
    "4.\n",
    "\n",
    "A multiprocessing pool in Python, provides a convenient way to parallelize the execution of a function across multiple input values. The pool distributes the input data among a specified number of processes, allowing them to work on different portions of the input concurrently. \n",
    "\n",
    "The use of pool simplifies the parallelization of tasks, as the pool takes care of distributing the work and collecting the results. Example for multiprocess pool is given below."
   ]
  },
  {
   "cell_type": "markdown",
   "id": "036da59c-ec87-40fc-b2b0-6bf16f0aecf3",
   "metadata": {},
   "source": [
    "#### 5 We can create multiprocessing pool using the Pool class from the multiprocessing module, specifying the number of worker processes to use. An example is given below."
   ]
  },
  {
   "cell_type": "code",
   "execution_count": 2,
   "id": "39aba9c2-3d07-45fb-95a5-871e5dcbd129",
   "metadata": {},
   "outputs": [
    {
     "name": "stdout",
     "output_type": "stream",
     "text": [
      "[1, 4, 16, 1024, 144, 25, 81, 529]\n"
     ]
    }
   ],
   "source": [
    "# 5 \n",
    "\n",
    "    # defining function works on single piece of data\n",
    "import multiprocessing\n",
    "def squaree(x):\n",
    "    return(x**2)\n",
    "\n",
    "if __name__==\"__main__\":\n",
    "    #pool creation,specifying number of processes to use\n",
    "    #: The pool distributes the input data among its processes. \n",
    "    #Each process independently applies the specified function to its assigned portion of the data.\n",
    "    with multiprocessing.Pool(processes=5) as pool:\n",
    "        # Here, the list contains the input data we want to process in parallel\n",
    "        out=pool.map(squaree,[1,2,4,32,12,5,9,23])\n",
    "        print(out)\n",
    "        "
   ]
  },
  {
   "cell_type": "code",
   "execution_count": 10,
   "id": "e7054d3f-58c1-440f-920f-a44ecf4e6a18",
   "metadata": {},
   "outputs": [
    {
     "name": "stdout",
     "output_type": "stream",
     "text": [
      "1234\n",
      "\n",
      "\n",
      "\n"
     ]
    }
   ],
   "source": [
    "#6 Q6. Write a python program to create 4 processes, each process should print a different number using the\n",
    "#multiprocessing module in python.\n",
    "import multiprocessing\n",
    "def printt(x):\n",
    "    print(x )\n",
    "       \n",
    "if __name__==\"__main__\":\n",
    "    with multiprocessing.Pool(processes=4) as pool:\n",
    "        pool.map(printt,[1,2,3,4])"
   ]
  },
  {
   "cell_type": "code",
   "execution_count": 11,
   "id": "d414a2da-c61a-43ee-9bd5-bca531b3a49c",
   "metadata": {},
   "outputs": [
    {
     "name": "stdout",
     "output_type": "stream",
     "text": [
      "Process 0: This is number 0\n",
      "Process 1: This is number 1\n",
      "Process 2: This is number 2\n",
      "Process 3: This is number 3\n",
      "All processes have finished.\n"
     ]
    }
   ],
   "source": [
    "import multiprocessing\n",
    "\n",
    "def print_number(number):\n",
    "    print(f\"Process {number}: This is number {number}\")\n",
    "\n",
    "if __name__ == \"__main__\":\n",
    "    # Number of processes to create\n",
    "    num_processes = 4\n",
    "\n",
    "    # Create and start the processes\n",
    "    processes = []\n",
    "    for i in range(num_processes):\n",
    "        process = multiprocessing.Process(target=print_number, args=(i,))\n",
    "        processes.append(process)\n",
    "        process.start()\n",
    "\n",
    "    # Wait for all processes to finish\n",
    "    for process in processes:\n",
    "        process.join()\n",
    "\n",
    "    print(\"All processes have finished.\")\n"
   ]
  },
  {
   "cell_type": "code",
   "execution_count": null,
   "id": "14b0b9c6-06be-4e40-af29-d4024614f512",
   "metadata": {},
   "outputs": [],
   "source": []
  }
 ],
 "metadata": {
  "kernelspec": {
   "display_name": "Python 3 (ipykernel)",
   "language": "python",
   "name": "python3"
  },
  "language_info": {
   "codemirror_mode": {
    "name": "ipython",
    "version": 3
   },
   "file_extension": ".py",
   "mimetype": "text/x-python",
   "name": "python",
   "nbconvert_exporter": "python",
   "pygments_lexer": "ipython3",
   "version": "3.10.8"
  }
 },
 "nbformat": 4,
 "nbformat_minor": 5
}
