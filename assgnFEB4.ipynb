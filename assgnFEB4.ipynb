{
 "cells": [
  {
   "cell_type": "markdown",
   "id": "3c006e76-9caa-4f2f-9624-fa2abe9116e6",
   "metadata": {},
   "source": [
    "### 1. "
   ]
  },
  {
   "cell_type": "code",
   "execution_count": 9,
   "id": "fdeb038b-e02e-4c97-982e-7e408da0c826",
   "metadata": {},
   "outputs": [],
   "source": [
    "lst=[('Sachin Tendulkar', 34357), ('Ricky Ponting', 27483), ('Jack Kallis', 25534), ('Virat Kohli', 24936)]"
   ]
  },
  {
   "cell_type": "code",
   "execution_count": 24,
   "id": "090bb8e9-ffcc-4ac1-9904-1e7af1b3ace5",
   "metadata": {},
   "outputs": [
    {
     "data": {
      "text/plain": [
       "[('Virat Kohli', 24936),\n",
       " ('Jack Kallis', 25534),\n",
       " ('Ricky Ponting', 27483),\n",
       " ('Sachin Tendulkar', 34357)]"
      ]
     },
     "execution_count": 24,
     "metadata": {},
     "output_type": "execute_result"
    }
   ],
   "source": [
    "#x[1] --> integer element in tuple\n",
    "lst2=sorted(lst,key=lambda x: x[1])\n",
    "lst2"
   ]
  },
  {
   "cell_type": "markdown",
   "id": "e2f56c28-7513-4d89-80f0-e960329e052b",
   "metadata": {},
   "source": [
    "### 2."
   ]
  },
  {
   "cell_type": "code",
   "execution_count": 25,
   "id": "8bc587d5-9255-4acd-a10f-8f7f96079f68",
   "metadata": {},
   "outputs": [],
   "source": [
    "lst2=[1, 2, 3, 4, 5, 6, 7, 8, 9, 10]"
   ]
  },
  {
   "cell_type": "code",
   "execution_count": 29,
   "id": "221e2a04-2bd0-4747-8b9d-a0d3636554ba",
   "metadata": {},
   "outputs": [
    {
     "data": {
      "text/plain": [
       "[1, 4, 9, 16, 25, 36, 49, 64, 81, 100]"
      ]
     },
     "execution_count": 29,
     "metadata": {},
     "output_type": "execute_result"
    }
   ],
   "source": [
    "sqr=list(map(lambda x: x**2,lst2))\n",
    "sqr"
   ]
  },
  {
   "cell_type": "markdown",
   "id": "df73253f-83ef-464a-8b19-332a15413085",
   "metadata": {},
   "source": [
    "### 3."
   ]
  },
  {
   "cell_type": "code",
   "execution_count": 32,
   "id": "871f2737-75d6-4fae-aeeb-e963d8abd5d9",
   "metadata": {},
   "outputs": [
    {
     "data": {
      "text/plain": [
       "['1', '2', '3', '4', '5', '6', '7', '8', '9', '10']"
      ]
     },
     "execution_count": 32,
     "metadata": {},
     "output_type": "execute_result"
    }
   ],
   "source": [
    "lstr= [1, 2, 3, 4, 5, 6, 7, 8, 9, 10]\n",
    "#Expected output: ('1', '2', '3', '4', '5', '6', '7', '8', '9', '10')\n",
    "strr=list(map(lambda x: str(x),lstr))\n",
    "strr"
   ]
  },
  {
   "cell_type": "markdown",
   "id": "7998ae24-c702-4dc8-ab83-2ee242e638fb",
   "metadata": {},
   "source": [
    "### 4."
   ]
  },
  {
   "cell_type": "code",
   "execution_count": 42,
   "id": "8e2658b7-927c-4b9e-9b9f-380519151e71",
   "metadata": {},
   "outputs": [
    {
     "data": {
      "text/plain": [
       "15511210043330985984000000"
      ]
     },
     "execution_count": 42,
     "metadata": {},
     "output_type": "execute_result"
    }
   ],
   "source": [
    "from functools import reduce\n",
    "lst3=list(range(1,26))\n",
    "reduce (lambda x,y:x*y,lst3)"
   ]
  },
  {
   "cell_type": "markdown",
   "id": "2cf03403-5e11-4bd6-9882-e7ed920461ed",
   "metadata": {},
   "source": [
    "### 5."
   ]
  },
  {
   "cell_type": "code",
   "execution_count": 43,
   "id": "1ef5980e-f6a7-44c2-8fc6-d081a043bb99",
   "metadata": {},
   "outputs": [],
   "source": [
    "lst4=[2, 3, 6, 9, 27, 60, 90, 120, 55, 46]"
   ]
  },
  {
   "cell_type": "code",
   "execution_count": 46,
   "id": "a96eb1d0-89af-49d6-a59d-5b1c2bf7314d",
   "metadata": {},
   "outputs": [
    {
     "data": {
      "text/plain": [
       "[6, 60, 90, 120]"
      ]
     },
     "execution_count": 46,
     "metadata": {},
     "output_type": "execute_result"
    }
   ],
   "source": [
    "lst5=list(filter(lambda x: x%2==0 and x%3==0,lst4))\n",
    "lst5"
   ]
  },
  {
   "cell_type": "markdown",
   "id": "ad28ade2-2931-439a-865e-87c17416bc69",
   "metadata": {},
   "source": [
    "### 6."
   ]
  },
  {
   "cell_type": "code",
   "execution_count": 48,
   "id": "88930d65-ac30-42f0-8e5c-7c2f63985f13",
   "metadata": {},
   "outputs": [],
   "source": [
    "strin=['python', 'php', 'aba', 'radar', 'level']"
   ]
  },
  {
   "cell_type": "code",
   "execution_count": 49,
   "id": "3e0494ee-aece-4ed6-95a4-a9005e21cb36",
   "metadata": {},
   "outputs": [
    {
     "data": {
      "text/plain": [
       "'nohtyp'"
      ]
     },
     "execution_count": 49,
     "metadata": {},
     "output_type": "execute_result"
    }
   ],
   "source": [
    "palfilter(lambda x:  x[::-1]==x,strin)"
   ]
  },
  {
   "cell_type": "code",
   "execution_count": null,
   "id": "ad783b88-6140-4de1-8963-842455c10d91",
   "metadata": {},
   "outputs": [],
   "source": []
  }
 ],
 "metadata": {
  "kernelspec": {
   "display_name": "Python 3 (ipykernel)",
   "language": "python",
   "name": "python3"
  },
  "language_info": {
   "codemirror_mode": {
    "name": "ipython",
    "version": 3
   },
   "file_extension": ".py",
   "mimetype": "text/x-python",
   "name": "python",
   "nbconvert_exporter": "python",
   "pygments_lexer": "ipython3",
   "version": "3.10.8"
  }
 },
 "nbformat": 4,
 "nbformat_minor": 5
}
