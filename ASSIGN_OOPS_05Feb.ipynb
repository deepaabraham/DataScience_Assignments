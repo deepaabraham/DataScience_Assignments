{
 "cells": [
  {
   "cell_type": "markdown",
   "id": "d28e2b58-f027-4ea8-83e0-05f3dfd87409",
   "metadata": {},
   "source": [
    "### 1"
   ]
  },
  {
   "cell_type": "markdown",
   "id": "d4a3f76c-7580-4c8e-8480-b7bbb212bc3c",
   "metadata": {},
   "source": [
    "Class:\n",
    "A class is a blueprint or a template for creating objects. It defines a set of attributes  and functions that the objects instantiated from the class will have. They encapsulate the data and behavior associated with an entity, helping code organization and reuse.\n",
    "\n",
    "Object:\n",
    "An object is an instance of a class. Objects represent specific entities in the program.\n",
    "Objects are used to interact with and manipulate data. They allow to create multiple instances of the same class with different attribute values."
   ]
  },
  {
   "cell_type": "code",
   "execution_count": 7,
   "id": "1cf7ed70-0f07-48b8-ae7c-632e8c6052a0",
   "metadata": {},
   "outputs": [],
   "source": [
    "# this is the definition of class, car containing atttributes brand,model,year and enginetype\n",
    "class Car:\n",
    "    def __init__(self,brand,model,year,enginetype):\n",
    "        self.brand=brand\n",
    "        self.model=model\n",
    "        self.year=year\n",
    "        self.enginetype=enginetype\n",
    "        \n",
    "    def return_detials(self):\n",
    "        return self.brand,self.model,self.year,self.enginetype"
   ]
  },
  {
   "cell_type": "code",
   "execution_count": 8,
   "id": "3ff0766e-7bed-4bbc-96c4-efb717ceec8e",
   "metadata": {},
   "outputs": [
    {
     "data": {
      "text/plain": [
       "('toyota', 'corolla', 2021, 'diesel')"
      ]
     },
     "execution_count": 8,
     "metadata": {},
     "output_type": "execute_result"
    }
   ],
   "source": [
    "# car1 is an object of class Car\n",
    "car1=Car('toyota','corolla',2021,'diesel')\n",
    "car1.return_detials()"
   ]
  },
  {
   "cell_type": "markdown",
   "id": "496c2d12-cdf4-408f-af29-620978a735ec",
   "metadata": {},
   "source": [
    "#### 2 Four pillars of OOPs"
   ]
  },
  {
   "cell_type": "markdown",
   "id": "e9348a41-ce72-445a-9cb5-0f237c95b4cf",
   "metadata": {},
   "source": [
    "Four pillars of OOPs are 1)Encapsulation 2)Abstraction 3)Polymorphism  and 4)Inheritance"
   ]
  },
  {
   "cell_type": "markdown",
   "id": "1c9ec1ce-cd57-4884-9462-4ced622240cf",
   "metadata": {},
   "source": [
    "#### 3 "
   ]
  },
  {
   "cell_type": "markdown",
   "id": "9d1a902c-b3d6-4c75-96eb-1efd724d3744",
   "metadata": {},
   "source": [
    "The __init__() function in Python is known as a constructor. This function is automatically called when an object of a class is created. The primary purpose of __init__() is to initialize the attributes of the object. \n"
   ]
  },
  {
   "cell_type": "code",
   "execution_count": 2,
   "id": "fcf0043b-041f-4686-99d5-aa0f861341cd",
   "metadata": {},
   "outputs": [
    {
     "name": "stdout",
     "output_type": "stream",
     "text": [
      "Name: Ancy\n",
      "Age: 35\n",
      "Email: ancy@example.com\n",
      "--------------------\n",
      "Name: Bobby\n",
      "Age: 16\n",
      "Email: bobby@example.com\n"
     ]
    }
   ],
   "source": [
    "class Person:\n",
    "    def __init__(self, namee, agee, emaill):\n",
    "        self.name = namee\n",
    "        self.age = agee\n",
    "        self.email = emaill\n",
    "        \n",
    "    def display_info(self):\n",
    "        print(f\"Name: {self.name}\")\n",
    "        print(f\"Age: {self.age}\")\n",
    "        print(f\"Email: {self.email}\")\n",
    "       \n",
    "# Creating instances of the Person class\n",
    "person1 = Person(\"Ancy\", 35, \"ancy@example.com\")\n",
    "person2 = Person(\"Bobby\", 16, \"bobby@example.com\")\n",
    "\n",
    "# Accessing attributes and using methods\n",
    "person1.display_info()\n",
    "print(\"--------------------\")\n",
    "person2.display_info()"
   ]
  },
  {
   "cell_type": "markdown",
   "id": "3329fdcc-7f2b-4aab-8ce9-be079ae60195",
   "metadata": {},
   "source": [
    "Here, the __init__ method takes four paramters, self,namee,agee and emaill. The attributes name,age,and email are initialized. \n",
    "When instances person1 and person2 are created, the __init__() method is automatically called and each object is\n",
    "initialized with the provided attributes.\n"
   ]
  },
  {
   "cell_type": "markdown",
   "id": "dfd4c243-9c27-4f2a-b8c0-985759f22757",
   "metadata": {},
   "source": [
    "#### 4"
   ]
  },
  {
   "cell_type": "markdown",
   "id": "219e57ae-7378-4f0b-812a-9c114ddb0f76",
   "metadata": {},
   "source": [
    "The self is a conventional name for the first parameter of instance methods in a class. \n",
    "It refers to the instance of the class itself. The self parameter helps to reference and operate on the instance \n",
    "variables within the class. Using self allows to access and modify instance variables. This helps in distinguishing between instance variables and local variables within a method."
   ]
  },
  {
   "cell_type": "markdown",
   "id": "951f412f-f73f-46ce-bf9c-c5098a776afd",
   "metadata": {},
   "source": [
    "#### 5"
   ]
  },
  {
   "cell_type": "code",
   "execution_count": null,
   "id": "40f1bf7e-7b4b-4d07-98c5-b78037245820",
   "metadata": {},
   "outputs": [],
   "source": [
    "Inheritance is a fundamental concept in OOPs that allows a new class (called a subclass or derived class) to inherit attributes and behaviors from an existing class (called a superclass or base class). \n",
    "This promotes code reuse and the creation of a hierarchy of classes. \n",
    "There are different types of inheritance in OOP:"
   ]
  },
  {
   "cell_type": "markdown",
   "id": "fd10bfef-acf1-4544-87f8-547a97b8b906",
   "metadata": {},
   "source": [
    "#### 1. Single Inheritance\n",
    "This is the simplest form of inheritance in which a subclass inherits from only one superclass. \n"
   ]
  },
  {
   "cell_type": "code",
   "execution_count": 6,
   "id": "b6b877c7-83b1-43b0-b404-07cf1d21d3cb",
   "metadata": {},
   "outputs": [
    {
     "name": "stdout",
     "output_type": "stream",
     "text": [
      "Animal with tail\n",
      "Dog barks\n"
     ]
    }
   ],
   "source": [
    "class Animal:\n",
    "    def speak(self):\n",
    "        print(\"Animal with tail\")\n",
    "\n",
    "class Dog(Animal):\n",
    "    def bark(self):\n",
    "        print(\"Dog barks\")\n",
    "\n",
    "# Example usage\n",
    "my_dog = Dog()\n",
    "my_dog.speak()  # Output: Animal with tail\n",
    "my_dog.bark()   # Output: Dog barks\n",
    "\n",
    "#Here the class Dog inherits from the class Animal"
   ]
  },
  {
   "cell_type": "markdown",
   "id": "b36e1a07-a3b9-4231-bb93-bc6c7b9543f1",
   "metadata": {},
   "source": [
    "#### 2 Multiple Inheritance\n",
    "In multiple inheritance, a subclass inherits from more than one superclass."
   ]
  },
  {
   "cell_type": "code",
   "execution_count": 11,
   "id": "b167778c-8a9f-4f2d-a30e-d254042b69f3",
   "metadata": {},
   "outputs": [],
   "source": [
    "class Animal:\n",
    "    def __init__(self, name):\n",
    "        self.name = name\n",
    "\n",
    "    def eat(self):\n",
    "        print(f\"{self.name} is eating\")\n",
    "\n",
    "class Bird(Animal):\n",
    "    def fly(self):\n",
    "        print(f\"{self.name} is flying\")\n",
    "\n",
    "class Fish(Animal):\n",
    "    def swim(self):\n",
    "        print(f\"{self.name} is swimming\")\n",
    "\n",
    "class FlyingFish(Bird, Fish):\n",
    "    def glide(self):\n",
    "        print(f\"{self.name} is gliding\")\n",
    " ## Here, FlyingFish inherits from both the classes Bird, and Fish.       "
   ]
  },
  {
   "cell_type": "code",
   "execution_count": 10,
   "id": "7cd85562-f31d-461d-9052-7f16f17a2f6b",
   "metadata": {},
   "outputs": [
    {
     "name": "stdout",
     "output_type": "stream",
     "text": [
      "Sally is eating\n",
      "Sally is flying\n",
      "Sally is swimming\n",
      "Sally is gliding\n"
     ]
    }
   ],
   "source": [
    "# Example usage\n",
    "flying_fish = FlyingFish(\"Sally\")\n",
    "flying_fish.eat()    \n",
    "flying_fish.fly()   \n",
    "flying_fish.swim()   \n",
    "flying_fish.glide() "
   ]
  },
  {
   "cell_type": "markdown",
   "id": "6e4ce31c-62cd-4473-a6fd-5436883fabe8",
   "metadata": {},
   "source": [
    "#### 3 Multilevel Inheritance:\n",
    "In multilevel inheritance, a subclass inherits from another subclass. "
   ]
  },
  {
   "cell_type": "code",
   "execution_count": 16,
   "id": "51e6c327-88f5-4321-8722-d8ac9ee58528",
   "metadata": {},
   "outputs": [
    {
     "name": "stdout",
     "output_type": "stream",
     "text": [
      "Engine started\n",
      "Car is being driven\n",
      "Sports car accelerating\n"
     ]
    }
   ],
   "source": [
    "class Vehicle:\n",
    "    def start_engine(self):\n",
    "        print(\"Engine started\")\n",
    "\n",
    "class Car(Vehicle):\n",
    "    def drive(self):\n",
    "        print(\"Car is being driven\")\n",
    "\n",
    "class SportsCar(Car):\n",
    "    def accelerate(self):\n",
    "        print(\"Sports car accelerating\")\n",
    "\n",
    "        #Sportscar inherited from another subclass Car\n",
    "        # Example usage\n",
    "sports_car = SportsCar()\n",
    "sports_car.start_engine()  \n",
    "sports_car.drive()        \n",
    "sports_car.accelerate()   "
   ]
  },
  {
   "cell_type": "markdown",
   "id": "7473cc3d-2ce6-4109-ad14-aa46e85cecb6",
   "metadata": {},
   "source": [
    "#### 3. Hierarchical Inheritance:\n",
    "\n",
    "In hierarchical inheritance, multiple subclasses inherit from a single superclass"
   ]
  },
  {
   "cell_type": "code",
   "execution_count": 14,
   "id": "740e1d9a-4bc5-472a-a854-1b0f2bef60d7",
   "metadata": {},
   "outputs": [
    {
     "name": "stdout",
     "output_type": "stream",
     "text": [
      "Drawing circle\n",
      "Drawing square\n"
     ]
    }
   ],
   "source": [
    "class Shape:\n",
    "    def draw(self):\n",
    "        print(\"Drawing shape\")\n",
    "\n",
    "class Circle(Shape):\n",
    "    def draw(self):\n",
    "        print(\"Drawing circle\")\n",
    "\n",
    "class Square(Shape):\n",
    "    def draw(self):\n",
    "        print(\"Drawing square\")\n",
    "## both Circle and Square inherits from Shape\n",
    "\n",
    "# Example usage\n",
    "circle = Circle()\n",
    "square = Square()\n",
    "circle.draw() \n",
    "square.draw() "
   ]
  },
  {
   "cell_type": "markdown",
   "id": "d53b3032-fff8-4da7-90a1-3647a8c701fa",
   "metadata": {},
   "source": [
    "##### 5.Hybrid Inheritance:\n",
    "\n",
    "Hybrid inheritance is a combination of different types of inheritance. "
   ]
  },
  {
   "cell_type": "code",
   "execution_count": null,
   "id": "ddb1711f-59bd-415f-b2e0-103a7bc9a0d0",
   "metadata": {},
   "outputs": [],
   "source": [
    "class A:\n",
    "    pass\n",
    "\n",
    "class B(A):\n",
    "    pass\n",
    "\n",
    "class C(A):\n",
    "    pass\n",
    "\n",
    "class D(B, C):\n",
    "    pass\n",
    "\n",
    "# "
   ]
  }
 ],
 "metadata": {
  "kernelspec": {
   "display_name": "Python 3 (ipykernel)",
   "language": "python",
   "name": "python3"
  },
  "language_info": {
   "codemirror_mode": {
    "name": "ipython",
    "version": 3
   },
   "file_extension": ".py",
   "mimetype": "text/x-python",
   "name": "python",
   "nbconvert_exporter": "python",
   "pygments_lexer": "ipython3",
   "version": "3.10.8"
  }
 },
 "nbformat": 4,
 "nbformat_minor": 5
}
