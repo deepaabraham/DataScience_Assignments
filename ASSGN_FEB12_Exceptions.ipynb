{
 "cells": [
  {
   "cell_type": "markdown",
   "id": "9653bf4d-332e-4a61-8c90-b133c83b3490",
   "metadata": {},
   "source": [
    "1. Exception is an bnormal event or error during the execution of a program interrupting normal flow of program. \n",
    "Exception can occur at run time, and they are not known until the program is executed. Examples are, ZeroDivisionError, TypeError, ValueError etc.\n",
    "\n",
    "Syntax error is a specific type of error that occurs when the Python interpreter encounters code which violates languages syntax rules.Missing colons, mismatched paranthesis, misspelled keywords are examples for syntax errors."
   ]
  },
  {
   "cell_type": "markdown",
   "id": "4863ceed-e29a-49a7-ab78-661f121eec6b",
   "metadata": {},
   "source": [
    "2. When exception is not handled in Python, the program terminates and error message is displayed."
   ]
  },
  {
   "cell_type": "code",
   "execution_count": 1,
   "id": "01c8826a-5d3a-48ab-b5a2-46c3da00a707",
   "metadata": {},
   "outputs": [
    {
     "name": "stdin",
     "output_type": "stream",
     "text": [
      "Enter first num 12\n",
      "Enter second num 3\n"
     ]
    },
    {
     "name": "stdout",
     "output_type": "stream",
     "text": [
      "the result of division: 4.0\n"
     ]
    }
   ],
   "source": [
    "a=int(input(\"Enter first num\"))\n",
    "b=int(input(\"Enter second num\"))\n",
    "c=a/b\n",
    "print(f\"the result of division: {c}\")"
   ]
  },
  {
   "cell_type": "markdown",
   "id": "670d71c2-1f9b-4d4b-93c9-0c275a1cd419",
   "metadata": {},
   "source": [
    "In the above block of code, the print statement works if the second number entered by user is not zero. But , when user enters zero as second number, the program terminates.\n"
   ]
  },
  {
   "cell_type": "code",
   "execution_count": 11,
   "id": "77b9e883-06ed-4fd5-915f-95d6ff3ce6d2",
   "metadata": {},
   "outputs": [
    {
     "name": "stdin",
     "output_type": "stream",
     "text": [
      "Enter first num 12\n",
      "Enter second num 0\n"
     ]
    },
    {
     "ename": "ZeroDivisionError",
     "evalue": "division by zero",
     "output_type": "error",
     "traceback": [
      "\u001b[0;31m---------------------------------------------------------------------------\u001b[0m",
      "\u001b[0;31mZeroDivisionError\u001b[0m                         Traceback (most recent call last)",
      "Cell \u001b[0;32mIn[11], line 3\u001b[0m\n\u001b[1;32m      1\u001b[0m a\u001b[38;5;241m=\u001b[39m\u001b[38;5;28mint\u001b[39m(\u001b[38;5;28minput\u001b[39m(\u001b[38;5;124m\"\u001b[39m\u001b[38;5;124mEnter first num\u001b[39m\u001b[38;5;124m\"\u001b[39m))\n\u001b[1;32m      2\u001b[0m b\u001b[38;5;241m=\u001b[39m\u001b[38;5;28mint\u001b[39m(\u001b[38;5;28minput\u001b[39m(\u001b[38;5;124m\"\u001b[39m\u001b[38;5;124mEnter second num\u001b[39m\u001b[38;5;124m\"\u001b[39m))\n\u001b[0;32m----> 3\u001b[0m c\u001b[38;5;241m=\u001b[39m\u001b[43ma\u001b[49m\u001b[38;5;241;43m/\u001b[39;49m\u001b[43mb\u001b[49m\n\u001b[1;32m      4\u001b[0m \u001b[38;5;28mprint\u001b[39m(\u001b[38;5;124mf\u001b[39m\u001b[38;5;124m\"\u001b[39m\u001b[38;5;124mthe result of division: \u001b[39m\u001b[38;5;132;01m{\u001b[39;00mc\u001b[38;5;132;01m}\u001b[39;00m\u001b[38;5;124m\"\u001b[39m)\n",
      "\u001b[0;31mZeroDivisionError\u001b[0m: division by zero"
     ]
    }
   ],
   "source": [
    "a=int(input(\"Enter first num\"))\n",
    "b=int(input(\"Enter second num\"))\n",
    "c=a/b\n",
    "print(f\"the result of division: {c}\")"
   ]
  },
  {
   "cell_type": "markdown",
   "id": "37de27a3-db95-4c87-be8a-8bad0c1949a7",
   "metadata": {},
   "source": [
    "and the program execution terminates and hence the lines of code below line 3 are not executed. \n",
    "The ZeroDivisionError message gets displayed."
   ]
  },
  {
   "cell_type": "markdown",
   "id": "af2b913f-1321-40f3-ac09-38381148ff30",
   "metadata": {},
   "source": [
    "3. In Python, the try, except, else, and finally blocks are used to catch and handle exceptions. "
   ]
  },
  {
   "cell_type": "code",
   "execution_count": 4,
   "id": "db83e5b0-9eed-42f1-ba99-5cdd756ddcc2",
   "metadata": {},
   "outputs": [
    {
     "name": "stdout",
     "output_type": "stream",
     "text": [
      "Division successful\n",
      "This will always be executed\n"
     ]
    }
   ],
   "source": [
    "try:\n",
    "    # Code that may cause an exception\n",
    "    result = 2 / 4 # This will raise a ZeroDivisionError\n",
    "except ZeroDivisionError:\n",
    "    # Handle specific exception(s)\n",
    "    print(\"Error: Division by zero\")\n",
    "except Exception as e:\n",
    "    # Handle other exceptions\n",
    "    print(f\"An unexpected error occurred: {e}\")\n",
    "else:\n",
    "    # else block to be executed if no exception occurs\n",
    "    print(\"Division successful\")\n",
    "finally:\n",
    "    # finally block to be executed regardless of whether an exception occurred or not\n",
    "    print(\"This will always be executed\")\n"
   ]
  },
  {
   "cell_type": "markdown",
   "id": "5898c295-d47d-4c21-9b62-0c7d2833ada7",
   "metadata": {},
   "source": [
    "4. a) Try and else:\n",
    "\n",
    "In Python, the try and else blocks are used together to handle exception. The try block contains the code that may cause an exception, and the else block contains code that will be executed only if no exception occurs in the try block. Example is given below:\n"
   ]
  },
  {
   "cell_type": "code",
   "execution_count": 6,
   "id": "c05e2493-740c-4730-95d9-9355ea2a4875",
   "metadata": {},
   "outputs": [
    {
     "name": "stdout",
     "output_type": "stream",
     "text": [
      "there is some issue with my code:  [Errno 2] No such file or directory: 'test.txt'\n",
      "this is my print\n"
     ]
    }
   ],
   "source": [
    "try:\n",
    "    f=open(\"test.txt\",\"r\")\n",
    "except Exception as e:\n",
    "    print(\"there is some issue with my code: \",e)\n",
    "    # its not stopping the next line of code\n",
    "else:\n",
    "    # executes when no exception occurs\n",
    "    print(\"File read successfully\")\n",
    "print(\"this is my print\")"
   ]
  },
  {
   "cell_type": "markdown",
   "id": "ac96e656-b053-4af1-baa9-283238b57c9a",
   "metadata": {},
   "source": [
    "Here, the file test.txt does not exist and hence the try block raises an exception. \n",
    "So the print statement in except block executes and error message is displayed. \n",
    "The else block executes when no exception exists, so if the file is read successfully, \n",
    "it gives a message saying,\"File read successfully\""
   ]
  },
  {
   "cell_type": "markdown",
   "id": "604451cd-8828-4abc-85c3-d40782e9afd6",
   "metadata": {},
   "source": [
    "b) finally:\n",
    "The finally block in Python is used along with the try and except blocks to define a piece of code that will be executed no matter what, whether an exception occurs or not. \n",
    "    "
   ]
  },
  {
   "cell_type": "code",
   "execution_count": 8,
   "id": "4ab658cd-cf5a-4311-b389-a623d46d1e5b",
   "metadata": {},
   "outputs": [
    {
     "name": "stdout",
     "output_type": "stream",
     "text": [
      "there is some issue with my code:  [Errno 2] No such file or directory: 'test.txt'\n",
      "this is finally block, executes no matter what\n"
     ]
    }
   ],
   "source": [
    "try:\n",
    "    f=open(\"test.txt\",\"r\")\n",
    "except Exception as e:\n",
    "    print(\"there is some issue with my code: \",e)\n",
    "    # its not stopping the next line of code\n",
    "else:\n",
    "    # executes when no exception occurs\n",
    "    print(\"File read successfully\")\n",
    "finally:\n",
    "    print(\"this is finally block, executes no matter what\")"
   ]
  },
  {
   "cell_type": "markdown",
   "id": "dc3ef05c-2c66-4121-bd89-7189f497e688",
   "metadata": {},
   "source": [
    "Here, the finally block executes irrespective of the condition whether the exception is raised or not."
   ]
  },
  {
   "cell_type": "markdown",
   "id": "dbcfaa6b-2300-492c-8266-34baa3aac1eb",
   "metadata": {},
   "source": [
    "c ) The raise command is used to raise an exception manually. This is used to indicate a particular error condition that is arised during the coding.\n",
    "In the following example, the sample_function raises a value error, when age <0."
   ]
  },
  {
   "cell_type": "code",
   "execution_count": 14,
   "id": "ce54d9cf-de54-4ffd-9eb1-7165fcbe934c",
   "metadata": {},
   "outputs": [
    {
     "name": "stdout",
     "output_type": "stream",
     "text": [
      "Caught a ValueError: Age must be non-negative\n"
     ]
    }
   ],
   "source": [
    "def sample_function(age):\n",
    "    if age < 0:\n",
    "        raise ValueError(\"Age must be non-negative\")\n",
    "    return age\n",
    "\n",
    "try:\n",
    "    result = sample_function(-10)\n",
    "except ValueError as ve:\n",
    "    print(f\"Caught a ValueError: {ve}\")\n"
   ]
  },
  {
   "cell_type": "markdown",
   "id": "e6a7d498-6d6c-4f3f-8be4-6c4e7fbcd7c7",
   "metadata": {},
   "source": [
    "5.The custom exceptions in Python allow to define our own exception classes to handle specific error conditions in a more organized way. Custom exceptions are typically derived from the built-in Exception class or one of its subclasses. Custom exceptions add more clarity to the code. Custom exceptions help to provide clarity and reusability to code."
   ]
  },
  {
   "cell_type": "code",
   "execution_count": 9,
   "id": "db354836-c5a9-4e82-958c-60888a1549b7",
   "metadata": {},
   "outputs": [
    {
     "name": "stdin",
     "output_type": "stream",
     "text": [
      "Enter your name Deepa12@\n"
     ]
    },
    {
     "name": "stdout",
     "output_type": "stream",
     "text": [
      "Name should be alphanumeric, should not contain any special characters\n"
     ]
    }
   ],
   "source": [
    "class validatename(Exception):\n",
    "    def __init__(self,msg):\n",
    "        self.msg=msg\n",
    "def validate_name(name):\n",
    "    if not name.isalnum():\n",
    "        raise validatename(\"Name should be alphanumeric, should not contain any special characters\")\n",
    "    else:\n",
    "        print(\"Name enetered is valid\")\n",
    "try:\n",
    "    name=input(\"Enter your name\")\n",
    "    validate_name(name)\n",
    "except validatename as e:\n",
    "    print(e)"
   ]
  },
  {
   "cell_type": "markdown",
   "id": "6f070e42-73f4-46d7-bbfa-00b6b10482cd",
   "metadata": {},
   "source": [
    "The above is an example for custom exception in which an exception is raised when user enters a name with alphanumeric ch"
   ]
  }
 ],
 "metadata": {
  "kernelspec": {
   "display_name": "Python 3 (ipykernel)",
   "language": "python",
   "name": "python3"
  },
  "language_info": {
   "codemirror_mode": {
    "name": "ipython",
    "version": 3
   },
   "file_extension": ".py",
   "mimetype": "text/x-python",
   "name": "python",
   "nbconvert_exporter": "python",
   "pygments_lexer": "ipython3",
   "version": "3.10.8"
  }
 },
 "nbformat": 4,
 "nbformat_minor": 5
}
