{
 "cells": [
  {
   "cell_type": "markdown",
   "id": "a884392c-5e74-4d7e-b7cc-c5b4e20356ab",
   "metadata": {},
   "source": [
    "1. A database is a structured collection of data organized for efficient retrieval, storage, and management. They help to store, organize and access data.There are two types of databses 1)SQL (Structured Query Language Databases) and 2)NoSQL (Not Only SQL) databases.\n",
    "\n",
    "SQL databases-Provide structured data. These databases are relational databses. They have a predefined schema, which describes structure of data, including datatypes and relationship between different tables. These are based on structured schema and uses tables to organize data. SQL databases are scaled vertically, the power of existing server can be increased by adding more CPU, RAM and storage.\n",
    "\n",
    "Examples: MySQL,SQLite,Oracle, Microsoft SQL server\n",
    "\n",
    "NoSQL databases-handle unstructured or semi structured data.They do not based on a fixed schema. NoSQL databases are often scaled horizontally, meaning that data is distributed across multiple servers to handle increasing loads.\n",
    "\n",
    "Examples: MongoDB,  Cassandra."
   ]
  },
  {
   "cell_type": "markdown",
   "id": "8140a598-4891-4980-88e9-dc3a4c68cfc0",
   "metadata": {},
   "source": [
    "2. DDL (Data Definition Language): DDL is a subset of SQL that deals with the definition and structure of the database objects.\n",
    "Some common DDL statements are 1)CREATE,2)DROP,3)ALTER,4)TRUNCATE.\n",
    "\n",
    "CREATE- used to create database objects like databases, tables, indexes and views.\n",
    "Example:\n",
    "CREATE TABLE employees (\n",
    "    employee_id INT PRIMARY KEY,\n",
    "    first_name VARCHAR(50),\n",
    "    last_name VARCHAR(50),\n",
    "    salary DECIMAL(10, 2)\n",
    ");\n",
    "\n",
    "DROP- is used to remove existing database objects, such as tables, indexes, or databases\n",
    "Example:\n",
    "DROP TABLE employees;\n",
    "\n",
    "ALTER- is used to modify the structure of existing database objects, such as adding or deleting columns in a table.\n",
    "Example:\n",
    "ALTER TABLE employees\n",
    "ADD COLUMN department VARCHAR(50);\n",
    "\n",
    "TRUNCATE- is used to remove all rows from a table, but it retains the structure of the table for future use.\n",
    "Example:\n",
    "TRUNCATE TABLE employees;\n",
    "\n",
    "\n",
    "\n"
   ]
  },
  {
   "cell_type": "markdown",
   "id": "ca58d9b0-b0df-428c-8652-a5140f09eaa7",
   "metadata": {},
   "source": [
    "3. DML (Data Manipulation Language): DML deals with the manipulation of data stored in the database. It includes statements for inserting, updating, and deleting data in database tables.\n",
    "\n",
    "INSERT- is used to add new rows of data into a table.\n",
    "\n",
    "Example:\n",
    "INSERT INTO employees (employee_id, first_name, last_name, salary)\n",
    "VALUES (1, 'Meera', 'Moni', 50000);\n",
    "\n",
    "The above statement inserts a new employee record to table employees.\n",
    "\n",
    "UPDATE-is used to modify existing data in a table based on a specified condition.\n",
    "\n",
    "Example:\n",
    "UPDATE employees\n",
    "SET salary = 55000\n",
    "WHERE employee_id = 1;\n",
    "\n",
    "The above command updates the salary of employee_id=1 as 55000 in employees table\n",
    "\n",
    "DELETE-is used to remove rows from a table based on a specified condition.\n",
    "\n",
    "Example:\n",
    "DELETE FROM employees\n",
    "WHERE employee_id = 1;\n",
    "\n",
    "This example deletes the employee with an ID of 1 from the \"employees\" table.\n"
   ]
  },
  {
   "cell_type": "markdown",
   "id": "0fd7398d-8e90-4aa2-bbc6-1f904eb23bef",
   "metadata": {},
   "source": [
    "4. DQL (Data Query Language): DQL deals specifically with the retrieval of data from a database. The primary statement in DQL is the SELECT statement, which is used to query the database and retrieve data from one or more tables.\n",
    "\n",
    "Example 1-\n",
    "SELECT employee_id, first_name, last_name\n",
    "FROM employees\n",
    "WHERE department = 'IT';\n",
    "\n",
    "selects specific columns (employee_id, first_name, last_name) from the \"employees\" table\n",
    "\n",
    "Example 2-\n",
    "SELECT * FROM employees.\n",
    "\n",
    "selects all records from the table employees.\n",
    "\n",
    "\n"
   ]
  },
  {
   "cell_type": "markdown",
   "id": "a59bc54d-7687-46b7-80d2-b81b5bbb4d30",
   "metadata": {},
   "source": [
    "5\n",
    "\n",
    "Primary Key:\n",
    "\n",
    "A primary key is a unique identifier for a record in a relational database table. It acts as a unique reference to each row in the table ensuring that each record can be uniquely identified.\n",
    "\n",
    "The following are the characteristics of primary key:\n",
    "1. Primary key must be unique across all rows in the table.\n",
    "2. A primary key cannot be a null value\n",
    "3.Primary key are automatically indexed.\n",
    "4. The values of primary key should not be changed once they are assigned to a record\n",
    "\n",
    "Example:\n",
    "\n",
    "\n",
    "CREATE TABLE students (\n",
    "    student_id INT PRIMARY KEY,\n",
    "    first_name VARCHAR(50),\n",
    "    last_name VARCHAR(50),\n",
    "    age INT\n",
    ");\n",
    "\n",
    "In this example, studentid is set as primary key for students table.\n",
    "\n",
    "Foreign Key:\n",
    "A foreign key establishes a link between two tables in a relational database. It represents a relationship between the data in the referencing (foreign key) table and the referenced (primary key) table. \n",
    "A foreign key in one table refers to the primary key in another table. It creates a link between the two tables.\n",
    "Foreign keys can have NULL values.\n",
    "A foreign key can consist of multiple columns forming a composite foreign key.\n"
   ]
  },
  {
   "cell_type": "markdown",
   "id": "79037a99-2146-4eb1-9e1e-2bc6e01c737f",
   "metadata": {},
   "source": [
    "6. \n"
   ]
  },
  {
   "cell_type": "code",
   "execution_count": null,
   "id": "b996951a-f1b9-45ac-ac91-5303070d13d3",
   "metadata": {},
   "outputs": [],
   "source": [
    "import mysql.connector  \n",
    "# import mysql.connector\n",
    "\n",
    "mydb = mysql.connector.connect(\n",
    "  host=\"localhost\",\n",
    "  user=\"abc\",\n",
    "  password=\"password\"\n",
    ")\n",
    "print(mydb)\n",
    "#cursor object used to interact with  MySQL database\n",
    "mycursor = mydb.cursor()\n",
    "#execute is used to execute SQL queries or commands through the cursor object.\n",
    "mycursor.execute(\"SHOW DATABASES\")\n",
    "for x in mycursor:\n",
    "  print(x)"
   ]
  },
  {
   "cell_type": "markdown",
   "id": "7e7cf43d-6485-4ac0-a9aa-ab5eda6e3455",
   "metadata": {},
   "source": [
    "7. The order of execution of SQL clauses in SQL query are as follows:\n",
    "    \n",
    "    1. SELECT\n",
    "    2. FROM\n",
    "    3. JOIN\n",
    "    4. WHERE\n",
    "    5. GROUP BY\n",
    "    6. HAVING\n",
    "    7. ORDER BY\n",
    "    8. LIMIT/OFFSET\n",
    "    "
   ]
  },
  {
   "cell_type": "code",
   "execution_count": null,
   "id": "88931d90-3081-4613-8492-bc7d0e1a7268",
   "metadata": {},
   "outputs": [],
   "source": []
  }
 ],
 "metadata": {
  "kernelspec": {
   "display_name": "Python 3 (ipykernel)",
   "language": "python",
   "name": "python3"
  },
  "language_info": {
   "codemirror_mode": {
    "name": "ipython",
    "version": 3
   },
   "file_extension": ".py",
   "mimetype": "text/x-python",
   "name": "python",
   "nbconvert_exporter": "python",
   "pygments_lexer": "ipython3",
   "version": "3.10.8"
  }
 },
 "nbformat": 4,
 "nbformat_minor": 5
}
