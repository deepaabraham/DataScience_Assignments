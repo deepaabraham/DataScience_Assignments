{
 "cells": [
  {
   "cell_type": "markdown",
   "id": "b831f532-4c31-4ffc-9df1-5a6bee86d94e",
   "metadata": {},
   "source": [
    "1.def key word is used to create function"
   ]
  },
  {
   "cell_type": "code",
   "execution_count": 1,
   "id": "4c92a94d-c733-4fd0-b55b-4b0075c8883f",
   "metadata": {},
   "outputs": [],
   "source": [
    "def odd():\n",
    "    list_odd=[]\n",
    "    for i in range(1,26):\n",
    "        if i%2!=0:\n",
    "            list_odd.append(i)\n",
    "    return list_odd\n",
    "    "
   ]
  },
  {
   "cell_type": "code",
   "execution_count": 2,
   "id": "f107448c-c028-4d28-989a-25ab2c52e099",
   "metadata": {},
   "outputs": [
    {
     "data": {
      "text/plain": [
       "[1, 3, 5, 7, 9, 11, 13, 15, 17, 19, 21, 23, 25]"
      ]
     },
     "execution_count": 2,
     "metadata": {},
     "output_type": "execute_result"
    }
   ],
   "source": [
    "odd()"
   ]
  },
  {
   "cell_type": "markdown",
   "id": "47f54792-c54d-424b-8bd7-3b59f73e94e9",
   "metadata": {},
   "source": [
    "2. *args and **kwargs are used for passing variable number of arguments to the function.\n",
    "*args is used for variable arguments, and **kwargs is used for passing key value pairs"
   ]
  },
  {
   "cell_type": "code",
   "execution_count": 4,
   "id": "a0710f18-4548-47eb-9f31-53a989159862",
   "metadata": {},
   "outputs": [],
   "source": [
    "# function to find sum of numbers passed to function\n",
    "def summ(*args):\n",
    "    sum=0\n",
    "    for i in args:\n",
    "        sum=sum+i\n",
    "    return sum\n",
    "    "
   ]
  },
  {
   "cell_type": "code",
   "execution_count": 6,
   "id": "88d36b5b-ae2f-451c-a73f-cce8aea83745",
   "metadata": {},
   "outputs": [
    {
     "data": {
      "text/plain": [
       "6"
      ]
     },
     "execution_count": 6,
     "metadata": {},
     "output_type": "execute_result"
    }
   ],
   "source": [
    "summ(1,2,3)"
   ]
  },
  {
   "cell_type": "code",
   "execution_count": 8,
   "id": "1d5bc0d4-1873-4246-870c-e007002afaa6",
   "metadata": {},
   "outputs": [
    {
     "data": {
      "text/plain": [
       "29"
      ]
     },
     "execution_count": 8,
     "metadata": {},
     "output_type": "execute_result"
    }
   ],
   "source": [
    "summ(1,2,3,4,5,6,8)"
   ]
  },
  {
   "cell_type": "code",
   "execution_count": 40,
   "id": "8bd34081-521d-4641-aeb6-bcbcd46328b4",
   "metadata": {},
   "outputs": [],
   "source": [
    "# function to pass key word arguments and return keyvalue pairs of list\n",
    "def fn7(**kwargs):\n",
    "    for item in kwargs.keys():\n",
    "        if type(kwargs[item])==list:\n",
    "            return item,kwargs[item]"
   ]
  },
  {
   "cell_type": "code",
   "execution_count": 41,
   "id": "00eeaa4e-acad-41d6-9a76-3fbf3342cd34",
   "metadata": {},
   "outputs": [
    {
     "data": {
      "text/plain": [
       "('a', [1, 2, 3])"
      ]
     },
     "execution_count": 41,
     "metadata": {},
     "output_type": "execute_result"
    }
   ],
   "source": [
    "fn7(a=[1,2,3],b=2,c=4)\n"
   ]
  },
  {
   "cell_type": "markdown",
   "id": "1a8a17f8-46de-4e87-8d7c-aa470ef167bb",
   "metadata": {},
   "source": [
    "3. An iterator is an object which contains countable number of values,which can be iterated upon.\n",
    "iter() method is used to initialize the iterator object and next() method is used to iterate over the iterable objects."
   ]
  },
  {
   "cell_type": "code",
   "execution_count": 44,
   "id": "f0a3cd85-f352-4668-8a8b-fa73f0633661",
   "metadata": {},
   "outputs": [
    {
     "name": "stdout",
     "output_type": "stream",
     "text": [
      "2\n",
      "4\n",
      "6\n",
      "8\n",
      "10\n"
     ]
    }
   ],
   "source": [
    "lst=[2,4,6,8,10,12,14,16,18,20]\n",
    "for i in range(0,5):\n",
    "    print(lst[i])"
   ]
  },
  {
   "cell_type": "markdown",
   "id": "e3929501-3c7d-4391-82cc-d89384988aac",
   "metadata": {},
   "source": [
    "4. Generator function returns an iterator object with a sequence of values.In generator function yield statement is used rather than a return statement.The yield statement function to return a value and then continue executing at the next yield statement. "
   ]
  },
  {
   "cell_type": "code",
   "execution_count": 33,
   "id": "80cfa0d9-1f80-4306-82ea-e7210c936d4f",
   "metadata": {},
   "outputs": [],
   "source": [
    "## Function to find factorials of numbers from 1 to n using generator\n",
    "def fact(n):\n",
    "    facc=1\n",
    "    for i in range(1,n+1):\n",
    "        facc=facc*i\n",
    "        yield facc\n",
    "    \n",
    "    "
   ]
  },
  {
   "cell_type": "code",
   "execution_count": 34,
   "id": "a77c20eb-cb21-44ed-a0ff-6676daa9cc34",
   "metadata": {},
   "outputs": [
    {
     "name": "stdout",
     "output_type": "stream",
     "text": [
      "1\n",
      "2\n",
      "6\n",
      "24\n",
      "120\n",
      "720\n"
     ]
    }
   ],
   "source": [
    "for i in fact(6):\n",
    "    print(i)"
   ]
  },
  {
   "cell_type": "code",
   "execution_count": 51,
   "id": "3ca0b905-0a18-4445-a627-83f527a20c29",
   "metadata": {},
   "outputs": [],
   "source": [
    "# prime_chk function to check if the number is prime or not\n",
    "def prime_chk(n):\n",
    "    if n<2:\n",
    "        return False\n",
    "    # checking for remainders =0 from 2 to (number/2)+1\n",
    "    for i in range(2,int(n/2)+1):\n",
    "        if n%i==0:\n",
    "            return False\n",
    "    return True\n",
    "#Function to generate prime numbers upto numb\n",
    "def primes(numb=1000):\n",
    "    for j in range(2,numb):\n",
    "        if prime_chk(j):\n",
    "            yield j\n",
    "    \n",
    "    "
   ]
  },
  {
   "cell_type": "code",
   "execution_count": 50,
   "id": "3d44cc63-e7a0-4274-834b-e8b8b73dbd45",
   "metadata": {},
   "outputs": [
    {
     "name": "stdout",
     "output_type": "stream",
     "text": [
      "2\n",
      "3\n",
      "5\n",
      "7\n",
      "11\n",
      "13\n",
      "17\n",
      "19\n"
     ]
    }
   ],
   "source": [
    "for i in primes(20):\n",
    "    print(i)"
   ]
  },
  {
   "cell_type": "code",
   "execution_count": null,
   "id": "da1493ee-0f95-4ee3-a2b3-1a0e5771c24a",
   "metadata": {},
   "outputs": [],
   "source": []
  }
 ],
 "metadata": {
  "kernelspec": {
   "display_name": "Python 3 (ipykernel)",
   "language": "python",
   "name": "python3"
  },
  "language_info": {
   "codemirror_mode": {
    "name": "ipython",
    "version": 3
   },
   "file_extension": ".py",
   "mimetype": "text/x-python",
   "name": "python",
   "nbconvert_exporter": "python",
   "pygments_lexer": "ipython3",
   "version": "3.10.8"
  }
 },
 "nbformat": 4,
 "nbformat_minor": 5
}
