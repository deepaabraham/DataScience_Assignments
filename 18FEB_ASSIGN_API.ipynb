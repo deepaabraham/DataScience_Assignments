{
 "cells": [
  {
   "cell_type": "markdown",
   "id": "cc4abc64-0151-4e89-ab32-e4c19a92a0e8",
   "metadata": {},
   "source": [
    "1. An API( Application Programming Interface), is a set of protocols, routines, and tools for building software applications. It defines how different software components interact, making it possible for developers to access the functionality of a system, service, or application.\n",
    "\n",
    "Example: Weather application in smart phone is an example for API. To get the updated weather information, the app is likely to use a weather API.\n"
   ]
  },
  {
   "cell_type": "markdown",
   "id": "cb31388d-4ef9-4f8c-99d7-124263257437",
   "metadata": {},
   "source": [
    "2. Advantages of using API\n",
    "1.Interoperability- APIs enable different software systems to communicate and interact with each other, promoting interoperability.\n",
    "2.Modularity-APIs promote modularity, making it easier to update or replace specific functionalities without affecting the entire system.\n",
    "3.Scalability-APIs support scalability by allowing applications to distribute tasks across different services or servers.\n",
    "4.Cost Efficiency- APIs are cost effective as it eliminates the need to build and maintain every aspect of a system. This can lead to significant cost savings in development and maintenance efforts.\n",
    "\n",
    "Disadvantages of using API\n",
    "\n",
    "1. Dependency on Third-Party Services- The applications become dependent on the availability and reliability of the third-party services.\n",
    "2. Security Concerns- APIs can introduce security risks, especially if not properly secured. Issues such as unauthorized access, data breaches, and injection attacks may occur \n",
    "3. Potential for Service Outages-  If the API provider experiences downtime or service outages, applications relying on that API may also experience disruptions. \n",
    "4. Overhead in Network Requests- Excessive use of APIs can result in increased network traffic and additional overhead. "
   ]
  },
  {
   "cell_type": "markdown",
   "id": "8ebfa84d-4282-4ab5-bacf-f4b32db16853",
   "metadata": {},
   "source": [
    "3. Web APIS are sub class of APIs, referring to APIs that are designed to be accessed over the web using standard web protocols such as HTTP or HTTPS. Web APIs enable communication and data exchange between web servers and clients (web browsers or other applications) over the internet.\n",
    "\n",
    "Differences between API and web API:\n",
    "Since Web APIs designed for web-based communication, they use using HTTP or HTTPS as the communication protocol. While API Can encompass various communication mediums, including libraries, frameworks, operating system calls, or web services. \n",
    "\n",
    "Web APIs are primarily used for communication over the web, allowing web servers to expose functionalities and data to be accessed by clients over the internet. APIS Can be implemented in different contexts, operating systems, or databases, facilitating communication between components within or outside a single application.\n",
    "\n",
    "Web API refers to a RESTful API that allows a web application to retrieve data from a server over HTTP. API refers to a database API that allows applications to interact with a database management system.\n",
    "\n"
   ]
  },
  {
   "cell_type": "markdown",
   "id": "5adb116e-ad8b-464c-a8ce-a174aa62dbba",
   "metadata": {},
   "source": [
    "4. REST (Representational State Transfer) Architecture- REST is an architectural style for designing networked applications. It relies on a stateless, client-server communication model where communication occurs through standard HTTP methods. \n",
    "\n",
    "REST is based on following principles.\n",
    "\n",
    "Client-Server Architecture-\n",
    "Separation of concerns between the client and server. The client is responsible for the user interface and user experience, while the server is responsible for processing requests, managing resources, and handling business logic.\n",
    "\n",
    "Statelessness-\n",
    "Each request from a client to a server must contain all the information needed to understand and fulfill the request. The server should not store any information about the client's state between requests.\n",
    "\n",
    "Cacheable-responses from server can be cached to improve response.\n",
    "\n",
    "Uniform Interface- A consistent and standardized interface simplifies interactions between clients and servers. RESTful APIs typically use standard HTTP methods (GET, POST, PUT, DELETE) and adhere to conventions such as resource URIs.\n",
    "\n",
    "Layered system-RESTful APIs composed of multiple layers, allowing for scalability,flexibility\n",
    "\n",
    "SOAP (Simple Object Access Protocol) Architecture-\n",
    "SOAP is a protocol for exchanging structured information in web services. It is a messaging protocol that uses XML for message format and can be carried over various transport protocols, including HTTP and SMTP.\n",
    "\n",
    "Key features of SOAP are as follows.\n",
    "\n",
    "Message Format-\n",
    "SOAP messages are XML-based and follow a strict message structure. Messages include a header for additional information and a body containing the actual data.\n",
    "\n",
    "Protocol Independence-\n",
    "SOAP can be used over various transport protocols, including HTTP, SMTP, and more. This allows for flexibility in communication.\n",
    "\n",
    "Complex Operations-\n",
    "SOAP supports complex operations and transactions, making it suitable for scenarios that require features such as ACID transactions and advanced security.\n",
    "\n",
    "Shortcomings of SOAP\n",
    "\n",
    "Complexity-\n",
    "SOAP messages are verbose and can be complex due to the XML format. This can lead to increased bandwidth usage and slower performance compared to more lightweight alternatives.\n",
    "\n",
    "Overhead-\n",
    "SOAP involves more overhead in terms of message size and processing, which can be a concern in scenarios with limited bandwidth or high-performance requirements.\n",
    "\n",
    "Flexibility-\n",
    "While SOAP is highly standardized, this can also make it less flexible. It may be challenging to work with in scenarios where a simpler, lightweight approach is preferred.\n",
    "\n",
    "Stateful Operations-\n",
    "SOAP can support stateful operations, but it is often used in a stateless manner. For stateful operations, additional considerations and mechanisms are required.\n",
    "\n",
    "Human-Readability-\n",
    "SOAP messages are not designed for human readability, which can make debugging and troubleshooting more challenging compared to more human-readable formats like JSON."
   ]
  },
  {
   "cell_type": "markdown",
   "id": "2bf73c7e-86df-4132-8ab0-11e28c66ceb8",
   "metadata": {},
   "source": [
    "#### 5 Major differences between SOAP and REST are as follows:\n"
   ]
  },
  {
   "cell_type": "markdown",
   "id": "67dcbd9e-304a-4e96-93a0-5c999fe475a8",
   "metadata": {},
   "source": [
    "Communication Style-\n",
    "REST Follows a stateless communication model. Each request from a client to a server must contain all the information needed to understand and fulfill the request.\n",
    "SOAP- Can be stateful or stateless, but it is often used in a stateless manner. The state of the client is not stored on the server between requests.\n",
    "\n",
    "Protocol-\n",
    "REST primarily uses standard HTTP methods (GET, POST, PUT, DELETE). Can use other protocols, but HTTP is most common.\n",
    "SOAP can use various protocols for message exchange, including HTTP, SMTP, and others.\n",
    "\n",
    "Message Format-\n",
    "REST uses lightweight data interchange formats such as JSON or XML. Typically, JSON is more common due to its simplicity.\n",
    "SOAP uses XML for message format. XML messages are more verbose compared to JSON.\n",
    "\n",
    "Uniform Interface-\n",
    "REST emphasizes a uniform and stateless interface. Resources are identified by URIs, and standard HTTP methods are used.\n",
    "SOAP uses a more rigid and standardized message structure with a header and body. Typically involves operations defined in a Web Services Description Language (WSDL) file.\n",
    "\n",
    "Flexibility-\n",
    "REST provides more flexibility and is often preferred for simple, lightweight, and loosely coupled architectures. Well-suited for scenarios like web and mobile applications.\n",
    "SOAPis more rigid and structured, suitable for complex operations and scenarios requiring advanced features like transactions and security.\n",
    "\n",
    "Overhead-\n",
    "REST haGenerally has lower overhead due to its lightweight message format and stateless communication.\n",
    "SOAP: Involves higher overhead due to the verbose XML format and additional processing requirements.\n",
    "Ease of Implementation:\n",
    "\n",
    "REST: Simpler to implement and understand, with fewer constraints. Easier to use and integrate with existing web technologies.\n",
    "SOAP: Can have a steeper learning curve and requires more effort for implementation. Typically involves more tooling."
   ]
  }
 ],
 "metadata": {
  "kernelspec": {
   "display_name": "Python 3 (ipykernel)",
   "language": "python",
   "name": "python3"
  },
  "language_info": {
   "codemirror_mode": {
    "name": "ipython",
    "version": 3
   },
   "file_extension": ".py",
   "mimetype": "text/x-python",
   "name": "python",
   "nbconvert_exporter": "python",
   "pygments_lexer": "ipython3",
   "version": "3.10.8"
  }
 },
 "nbformat": 4,
 "nbformat_minor": 5
}
