{
 "cells": [
  {
   "cell_type": "markdown",
   "id": "d83b3331-a0c3-4e97-b242-4368ecc25646",
   "metadata": {},
   "source": [
    "Q1. You are writing code for a company. The requirement of the company is that you create a python\n",
    "function that will check whether the password entered by the user is correct or not. The function should\n",
    "take the password as input and return the string “Valid Password” if the entered password follows the\n",
    "below-given password guidelines else it should return “Invalid Password”.\n",
    "Note: 1. The Password should contain at least two uppercase letters and at least two lowercase letters.\n",
    "2. The Password should contain at least a number and three special characters.\n",
    "3. The length of the password should be 10 characters long."
   ]
  },
  {
   "cell_type": "code",
   "execution_count": 2,
   "id": "fdfe17a0-4879-468b-a349-6f191c159c89",
   "metadata": {},
   "outputs": [],
   "source": [
    "def pass_chk(password):\n",
    "    cnt_U=0\n",
    "    cnt_L=0\n",
    "    cnt_num=0\n",
    "    cnt_spl=0\n",
    "    if len(password)<10:\n",
    "        return (\"Invalid Password\")\n",
    "    for item in password:\n",
    "        if item.isupper():\n",
    "            cnt_U+=1\n",
    "        elif item.islower():\n",
    "            cnt_L+=1\n",
    "        elif item.isdigit():\n",
    "            cnt_num+=1\n",
    "        elif not item.isalnum():\n",
    "            cnt_spl+=1\n",
    "    #print(cnt_U,cnt_L,cnt_num,cnt_spl)\n",
    "    if cnt_U>=2 and cnt_L>=2 and cnt_num>=1 and cnt_spl>=3:\n",
    "        return(\"Valid Password\")\n",
    "    else:\n",
    "        return(\"Invalid Password\")\n",
    "            \n",
    "            "
   ]
  },
  {
   "cell_type": "code",
   "execution_count": 4,
   "id": "46040a31-de7d-41c2-9de5-e9b0bef2f1c5",
   "metadata": {},
   "outputs": [
    {
     "data": {
      "text/plain": [
       "'Valid Password'"
      ]
     },
     "execution_count": 4,
     "metadata": {},
     "output_type": "execute_result"
    }
   ],
   "source": [
    "pass_chk(\"AbBc@$1$qweRt\")\n",
    "\n"
   ]
  },
  {
   "cell_type": "code",
   "execution_count": 6,
   "id": "420d9917-d7da-4e61-afbc-741ebf79f4a5",
   "metadata": {},
   "outputs": [
    {
     "data": {
      "text/plain": [
       "'Invalid Password'"
      ]
     },
     "execution_count": 6,
     "metadata": {},
     "output_type": "execute_result"
    }
   ],
   "source": [
    "pass_chk(\"AbBc@$$Rt\")\n"
   ]
  },
  {
   "cell_type": "markdown",
   "id": "dab0ed39-a439-4573-9cfe-c07a997a761d",
   "metadata": {},
   "source": [
    "Q2. Solve the below-given questions using at least one of the following:\n",
    "1. Lambda function\n",
    "2. Filter function\n",
    "3. Zap function\n",
    "4. List Comprehension\n",
    "\n",
    "2.1 Check if the string starts with a particular letter\n",
    "\n",
    " 2.2 Check if the string is numeric\n",
    " \n",
    " 2.3 Sort a list of tuples having fruit names and their quantity. [(\"mango\",99),(\"orange\",80), (\"grapes\", 1000)-\n",
    " \n",
    "2.4 Find the squares of numbers from 1 to 10\n",
    "\n",
    "2.5 Find the cube root of numbers from 1 to 10\n",
    "\n",
    "2.6 Check if a given number is even\n",
    "\n",
    "2.7 Filter odd numbers from the given list.[1,2,3,4,5,6,7,8,9,10\n",
    "\n",
    "2.8 Sort a list of integers into positive and negative integers lists.[1,2,3,4,5,6,-1,-2,-3,-4,-5,0]"
   ]
  },
  {
   "cell_type": "code",
   "execution_count": null,
   "id": "be0a4d26-88cc-423f-b0cc-eb129f548d43",
   "metadata": {},
   "outputs": [],
   "source": [
    "# 2.1 Check if the string starts with a particular letter\n",
    "inn=input(\"Enter the string\")\n",
    "chrr=input(\"Enter the letter\")\n",
    "answer=lambda stringg,charr: stringg[0].lower()==charr.lower()\n",
    "check=answer(inn,chrr)\n",
    "print(f'Does string {inn} starts with character {chrr} ? {check}')\n"
   ]
  },
  {
   "cell_type": "code",
   "execution_count": 59,
   "id": "291c5cba-4a7f-432f-8651-74a75b8cb83d",
   "metadata": {},
   "outputs": [
    {
     "name": "stdin",
     "output_type": "stream",
     "text": [
      "Enter string 123\n"
     ]
    },
    {
     "name": "stdout",
     "output_type": "stream",
     "text": [
      "Is the string 123 is numeric ? True\n"
     ]
    }
   ],
   "source": [
    "# 2.2 Check if the string is numeric\n",
    "inn=input(\"Enter string\")\n",
    "chk=lambda string: string.isdigit()\n",
    "chk_ans=chk(inn)\n",
    "print(f'Is the string {inn} is numeric ? {chk_ans}')\n"
   ]
  },
  {
   "cell_type": "code",
   "execution_count": 70,
   "id": "d1125156-530f-4b45-888e-e4caa47bc0ef",
   "metadata": {},
   "outputs": [
    {
     "name": "stdout",
     "output_type": "stream",
     "text": [
      "[('orange', 80), ('mango', 99), ('grapes', 1000)]\n"
     ]
    }
   ],
   "source": [
    "#  2.3 Sort a list of tuples having fruit names and their quantity. [(\"mango\",99),(\"orange\",80), (\"grapes\", 1000)\n",
    "\n",
    "fruit_lst=[(\"mango\",99),(\"orange\",80), (\"grapes\", 1000)]\n",
    "sort_list=sorted(fruit_lst,key=lambda x: x[1])\n",
    "print(sort_list)\n",
    "\n"
   ]
  },
  {
   "cell_type": "code",
   "execution_count": 82,
   "id": "54c7d8c6-65c7-4dba-b150-bb77f744efde",
   "metadata": {},
   "outputs": [
    {
     "name": "stdout",
     "output_type": "stream",
     "text": [
      "[1, 4, 9, 16, 25, 36, 49, 64, 81, 100]\n"
     ]
    }
   ],
   "source": [
    "# 2.4  Find the squares of numbers from 1 to 10\n",
    "num=range(1,11)\n",
    "lst=list(map(lambda x: x**2,num))\n",
    "print (lst)"
   ]
  },
  {
   "cell_type": "code",
   "execution_count": null,
   "id": "af889f0f-9bc2-49c1-9127-4c5748925473",
   "metadata": {},
   "outputs": [],
   "source": [
    "num=range(1,11)\n",
    "lst=[x**2 for x in num]\n",
    "print (lst)"
   ]
  },
  {
   "cell_type": "code",
   "execution_count": 83,
   "id": "ad6d347a-79b2-408f-8fce-9ffcaf73431e",
   "metadata": {},
   "outputs": [
    {
     "name": "stdout",
     "output_type": "stream",
     "text": [
      "[1.0, 1.2599210498948732, 1.4422495703074083, 1.5874010519681994, 1.7099759466766968, 1.8171205928321397, 1.912931182772389, 2.0, 2.080083823051904, 2.154434690031884]\n"
     ]
    }
   ],
   "source": [
    "# 2.5 Find the cube root of numbers from 1 to 10\n",
    "num=range(1,11)\n",
    "lst=list(map(lambda x: x**(1/3),num))\n",
    "print (lst)"
   ]
  },
  {
   "cell_type": "code",
   "execution_count": 86,
   "id": "ba10483c-db8e-48fe-a2aa-e7e165da52c8",
   "metadata": {},
   "outputs": [
    {
     "name": "stdin",
     "output_type": "stream",
     "text": [
      "Enter the number 12\n"
     ]
    },
    {
     "name": "stdout",
     "output_type": "stream",
     "text": [
      "Is 12 even? True\n"
     ]
    }
   ],
   "source": [
    "#2.6 Check if a given number is even\n",
    "numb=int(input(\"Enter the number\"))\n",
    "chk=lambda x: x%2==0\n",
    "chk_ans=chk(numb)\n",
    "print(f'Is {numb} even? {chk_ans}')"
   ]
  },
  {
   "cell_type": "code",
   "execution_count": 4,
   "id": "a4b62773-ecc1-45c6-8331-35fd1c8d4fc6",
   "metadata": {},
   "outputs": [
    {
     "name": "stdout",
     "output_type": "stream",
     "text": [
      "[1, 3, 5, 7, 9]\n"
     ]
    }
   ],
   "source": [
    "#2.7 Filter odd numbers from the given list.#[1,2,3,4,5,6,7,8,9,10] \n",
    "\n",
    "list1=[1,2,3,4,5,6,7,8,9,10] \n",
    "L=list(filter(lambda x: x%2!=0,list1))\n",
    "print(L)\n"
   ]
  },
  {
   "cell_type": "code",
   "execution_count": 11,
   "id": "49d7d077-6298-4eae-b1ec-843c3ad105d7",
   "metadata": {},
   "outputs": [
    {
     "name": "stdout",
     "output_type": "stream",
     "text": [
      "List of positive numbers: [1, 2, 3, 4, 5, 6, 0]\n",
      "List of negative numbers: [-1, -2, -3, -4, -5]\n"
     ]
    }
   ],
   "source": [
    "# 2.8 Sort a list of integers into positive and negative integers lists. [1,2,3,4,5,6,-1,-2,-3,-4,-5,0]\n",
    "list1=[1,2,3,4,5,6,-1,-2,-3,-4,-5,0]\n",
    "P=list(filter(lambda x: x>=0,list1))\n",
    "N=list(filter(lambda x: x<0,list1))\n",
    "print(f\"List of positive numbers: {P}\")\n",
    "print(f\"List of negative numbers: {N}\")"
   ]
  }
 ],
 "metadata": {
  "kernelspec": {
   "display_name": "Python 3 (ipykernel)",
   "language": "python",
   "name": "python3"
  },
  "language_info": {
   "codemirror_mode": {
    "name": "ipython",
    "version": 3
   },
   "file_extension": ".py",
   "mimetype": "text/x-python",
   "name": "python",
   "nbconvert_exporter": "python",
   "pygments_lexer": "ipython3",
   "version": "3.10.8"
  }
 },
 "nbformat": 4,
 "nbformat_minor": 5
}
