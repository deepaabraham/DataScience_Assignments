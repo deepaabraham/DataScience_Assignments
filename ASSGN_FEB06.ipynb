{
 "cells": [
  {
   "cell_type": "markdown",
   "id": "8506e53b-6f7e-4c33-a2c3-412cb4093e22",
   "metadata": {},
   "source": [
    "Q1. Create a function which will take a list as an argument and return the product of all the numbers\n",
    "after creating a flat list.\n",
    "Use the below-given list as an argument for your function.\n",
    "list1 = [1,2,3,4, [44,55,66, True], False, (34,56,78,89,34), {1,2,3,3,2,1}, {1:34, \"key2\": [55, 67, 78, 89], 4: (45,\n",
    "22, 61, 34)}, [56, 'data science'], 'Machine Learning']\n",
    "Note: you must extract numeric keys and values of the dictionary also."
   ]
  },
  {
   "cell_type": "code",
   "execution_count": 74,
   "id": "ff5e901a-64cc-4f2c-aa3d-50f4ca459c1e",
   "metadata": {},
   "outputs": [],
   "source": [
    "import math\n",
    "def product(lst):\n",
    "    new=[]\n",
    "    for item in lst:\n",
    "        if type(item)==int:\n",
    "            new.append(item)\n",
    "        elif type(item)==list:\n",
    "            for j in item:\n",
    "                if type(j)==int:\n",
    "                    new.append(j)\n",
    "        elif type(item)==tuple:\n",
    "            for k in item:\n",
    "                if type(k)==int:\n",
    "                    new.append(k)\n",
    "        elif type(item)==set:\n",
    "            for m in item:\n",
    "                if type(m)==int:\n",
    "                    new.append(m)\n",
    "        elif type(item)==dict:\n",
    "            Key=list(item.keys())\n",
    "            #print(Key)\n",
    "            for n in Key:\n",
    "                if type(n)==int:\n",
    "                    new.append(n)\n",
    "            Values=list(item.values())\n",
    "            print(Values)\n",
    "            for t in Values:\n",
    "                if type(t)==list or type(t)==set or type(t)==tuple:\n",
    "                    for i in t:\n",
    "                        new.append(i)\n",
    "                elif type(t)==int:\n",
    "                    new.append(t)\n",
    "        prodd=math.prod(new)\n",
    "    print(f\"The flat list={new}\")\n",
    "                    \n",
    "    return prodd\n",
    "    "
   ]
  },
  {
   "cell_type": "code",
   "execution_count": 75,
   "id": "bf01b70f-255f-4e48-808f-4db2d7927e3c",
   "metadata": {},
   "outputs": [
    {
     "name": "stdout",
     "output_type": "stream",
     "text": [
      "[34, [55, 67, 78, 89], (45, 22, 61, 34)]\n",
      "the flat list=[1, 2, 3, 4, 44, 55, 66, 34, 56, 78, 89, 34, 1, 2, 3, 1, 4, 34, 55, 67, 78, 89, 45, 22, 61, 34, 56]\n"
     ]
    },
    {
     "data": {
      "text/plain": [
       "4134711838987085478833841242112000"
      ]
     },
     "execution_count": 75,
     "metadata": {},
     "output_type": "execute_result"
    }
   ],
   "source": [
    "product( [1,2,3,4, [44,55,66, True], False, (34,56,78,89,34), {1,2,3,3,2,1}, {1:34, \"key2\": [55, 67, 78, 89], 4: (45, 22, 61, 34)}, [56, 'data science'], 'Machine Learning'])"
   ]
  },
  {
   "cell_type": "markdown",
   "id": "c65f80b8-1fab-4ac7-85b0-7e5a43aeb10b",
   "metadata": {},
   "source": [
    "Q2. Write a python program for encrypting a message sent to you by your friend. The logic of encryption\n",
    "should be such that, for a the output should be z. For b, the output should be y. For c, the output should\n",
    "be x respectively. Also, the whitespace should be replaced with a dollar sign. Keep the punctuation\n",
    "marks unchanged.\n",
    "Input Sentence: I want to become a Data Scientist.\n",
    "Encrypt the above input sentence using the program you just created.\n",
    "Note: Convert the given input sentence into lowercase before encrypting. The final output should be\n",
    "lowercase."
   ]
  },
  {
   "cell_type": "code",
   "execution_count": 129,
   "id": "f02b2b11-a78b-4099-969e-df26a9b5641e",
   "metadata": {},
   "outputs": [
    {
     "name": "stdin",
     "output_type": "stream",
     "text": [
      "Enter string::  I want to become a Data Scientist\n"
     ]
    },
    {
     "name": "stdout",
     "output_type": "stream",
     "text": [
      "The encrypted text:: r$dzmg$gl$yvxlnv$z$wzgz$hxrvmgrhg\n"
     ]
    }
   ],
   "source": [
    "sttr=input('Enter string:: ')\n",
    "sttr=(sttr.lower())\n",
    "enc=\" \"\n",
    "for chhr in sttr:\n",
    "    if ord(chhr)>=97 and ord(chhr)<=122:\n",
    "        enc+=chr(219-ord(chhr))\n",
    "    elif ord(chhr)==32:\n",
    "        enc+='$'\n",
    "    elif ord(chhr)==34:\n",
    "        enc+=chhr\n",
    "print(f'The encrypted text::{enc}')\n",
    "    \n",
    "    "
   ]
  }
 ],
 "metadata": {
  "kernelspec": {
   "display_name": "Python 3 (ipykernel)",
   "language": "python",
   "name": "python3"
  },
  "language_info": {
   "codemirror_mode": {
    "name": "ipython",
    "version": 3
   },
   "file_extension": ".py",
   "mimetype": "text/x-python",
   "name": "python",
   "nbconvert_exporter": "python",
   "pygments_lexer": "ipython3",
   "version": "3.10.8"
  }
 },
 "nbformat": 4,
 "nbformat_minor": 5
}
