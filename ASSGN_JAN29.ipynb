{
 "cells": [
  {
   "cell_type": "markdown",
   "id": "d42163c5-9381-4a6e-9763-61bd616e92c5",
   "metadata": {},
   "source": [
    "1. Guido van Rossum developed Python Programming Language\n",
    "2. Python supports multiple programming paradigms beyond object-oriented programming, such as procedural and functional programming.\n",
    "3. Yes, Python is case sensitive when it comes to identifiers. \n",
    "4. Correct extension of python file is .py. For example 'mypgm.py'\n",
    "5. Python code is interpreted. It means python code is not converted to machine code before it is executed, it is converted line by line and executes it directly. \n",
    "6. in python, code is organized into blocks using indentation. Function definition, conditional statements like if-else, loop control statements such as for, while , class definition are some common blocks of code used in python.\n",
    "7. Single line comments in python are followed by hash ('#')\n",
    "8. To know the version of python , the following commands can be used\n",
    "\n",
    "    import sys\n",
    "    sys.version\n",
    "     or from command prompt type ' python --version'\n",
    "9. The lambda keyword can be used to create anonymous functiosn at run time.\n",
    "    For example, to add two variables, lambda function can be defined as follows.\n",
    "    result=lambda x,y: x+y\n",
    "10.  pip is the package installer in python. To install a package, 'pip install package_name' is used.\n",
    "11. Some built in functions in python are, print(),input(), int(),float(),max(),abs(),min(),len().\n",
    "12. The maximum possible length of ientifiers in Python is 79 characters.\n",
    "13. Python is a versatile programming language with many advantages. Some are listed below:\n",
    "    Readability and simplicity\n",
    "    Extensive standard library- Python comes with comprehensive standard library which includes wide range of modules and  packages,\n",
    "    Large and active community of developers contributing to language's growth\n",
    "    Open source and free\n",
    "    \n",
    "14. Memory management in Python is done by Python private heap space. All python objects and data structures are located in a private heap. The programmer does not have access to this private heap. The python interpreter takes care of this instead.\n",
    "\n",
    "15. Download the latest python version from official Python website. Open command prompt and go to the folder where the installer is located. Then  type 'start python-3.x.x.exe'(x.x. - replace with latest version). When the installer window opens, click on install now.\n",
    "    To set path variables, in commnad prompt type 'setx PATH \"%PATH%; <with actual path of python installation>. \n",
    "    To verify path variable, in command prompt check python and pip is recognized using the following commands.\n",
    "    python --version\n",
    "    pip-- version\n",
    "    If python and pip are recognized without any errors, the path variables has been installed successfully.\n",
    "    \n",
    " 16. Yes, indentation is reqired in python. Indentation is a part of Python syntax. Unlike other programming languages likd\n",
    "\n",
    "\n",
    "\n"
   ]
  },
  {
   "cell_type": "code",
   "execution_count": null,
   "id": "747a030e-2336-4e6c-852a-e9d258b48886",
   "metadata": {},
   "outputs": [],
   "source": []
  }
 ],
 "metadata": {
  "kernelspec": {
   "display_name": "Python 3 (ipykernel)",
   "language": "python",
   "name": "python3"
  },
  "language_info": {
   "codemirror_mode": {
    "name": "ipython",
    "version": 3
   },
   "file_extension": ".py",
   "mimetype": "text/x-python",
   "name": "python",
   "nbconvert_exporter": "python",
   "pygments_lexer": "ipython3",
   "version": "3.10.8"
  }
 },
 "nbformat": 4,
 "nbformat_minor": 5
}
