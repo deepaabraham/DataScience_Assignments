{
 "cells": [
  {
   "cell_type": "markdown",
   "id": "1959d8e0-ef98-4c11-b457-8299a4a19dc1",
   "metadata": {},
   "source": [
    "1. "
   ]
  },
  {
   "cell_type": "markdown",
   "id": "df38a93f-fb8c-4a2d-92ed-1674651f7a5d",
   "metadata": {},
   "source": [
    "GET\n",
    "The GET method is used to request data from a specified resource. Data is submitted as part of the URL (query parameters) in a GET request. Parameters are visible in the URL, making it easy to bookmark, share, and see the data being sent, an hence sensitive information should not be sent using this method. GET requests can be cached, making them suitable for situations where the same request is likely to be repeated. \n",
    "\n",
    "POST\n",
    "The POST method is used to submit data to be processed to a specified resource. Data is submitted in the request body, not in the URL. This allows for the submission of larger amounts of data compared to the limited space available in the URL. Parameters are not visible in the URL, providing a more secure way to transmit sensitive information and hence POST is commonly used for submitting sensitive information, such as login credentials or data that should not be visible in the URL. POST requests are not cached by default. "
   ]
  },
  {
   "cell_type": "markdown",
   "id": "69de17b6-be32-4731-9d52-ceb61f3d2cd6",
   "metadata": {},
   "source": [
    "2"
   ]
  },
  {
   "cell_type": "markdown",
   "id": "64e4a37f-8b12-4112-bf22-dccd22e11e52",
   "metadata": {},
   "source": [
    "In Flask, the request object is used to access incoming request data, such as form data, query parameters, headers, and files. It provides a convenient way to interact with the data sent by a client's HTTP request when handling routes or views.\n",
    "The request object is used to \n",
    "1. Accessing Form Data- When a client submits an HTML form, the data is typically sent in the request body. The request object allows you to access this form data.\n",
    "\n",
    "2.Handling Query Parameters- Query parameters are part of the URL and are commonly used in GET requests. \n",
    "\n",
    "3.Handling File Uploads- When handling file uploads in a form, the uploaded files can be accessed through the request files attribute.\n",
    "\n",
    "4.Determining the HTTP Method- The request object allows you to determine the HTTP method used in the request (GET, POST, etc.) through request.method."
   ]
  },
  {
   "cell_type": "markdown",
   "id": "d3e576bd-d125-4ebf-aead-cba96b856b64",
   "metadata": {},
   "source": [
    "3"
   ]
  },
  {
   "cell_type": "markdown",
   "id": "9e3f6763-9fc5-4ded-b3a8-3897ab555f48",
   "metadata": {},
   "source": [
    "In Flask, the redirect() function is used to redirect the client's web browser to a different URL. It is a helpful utility for controlling the flow of a web application by guiding users from one endpoint to another.\n",
    "\n",
    "The redirect() function is used in after processing a form submission, it is common to redirect the user to another page to show the results or prevent form resubmission when the user refreshes the page. It allows to changing URL Structure.\n",
    "When dealing with dynamic routes, redirect() can be used in conjunction with url_for() to dynamically generate URLs.\n"
   ]
  },
  {
   "cell_type": "markdown",
   "id": "9bc343e8-19f5-4c3d-8fd3-f715c9eee217",
   "metadata": {},
   "source": [
    "4"
   ]
  },
  {
   "cell_type": "markdown",
   "id": "2e868563-8fbd-4985-a10a-2f0d452bdf9f",
   "metadata": {},
   "source": [
    "Templates in Flask refer to files that contain dynamic content and can be rendered to produce HTML or other markup.  Flask uses the Jinja2 templating engine, a powerful and expressive template engine for Python.\n",
    "\n",
    "render_template() Function:\n",
    "The render_template() function in Flask is used to render a template and produce an HTML response. It takes the name of the template as an argument along with any additional context variables that need to be passed to the template."
   ]
  },
  {
   "cell_type": "markdown",
   "id": "60061a58-ff86-448c-9b4c-139844216b59",
   "metadata": {},
   "source": [
    "5. Create a simple API. Use Postman to test it. Attach the screenshot of the output in the Jupyter Notebook."
   ]
  },
  {
   "cell_type": "code",
   "execution_count": null,
   "id": "6f2178d2-2af0-4ef5-8fd9-f6de44ea558b",
   "metadata": {},
   "outputs": [],
   "source": []
  }
 ],
 "metadata": {
  "kernelspec": {
   "display_name": "Python 3 (ipykernel)",
   "language": "python",
   "name": "python3"
  },
  "language_info": {
   "codemirror_mode": {
    "name": "ipython",
    "version": 3
   },
   "file_extension": ".py",
   "mimetype": "text/x-python",
   "name": "python",
   "nbconvert_exporter": "python",
   "pygments_lexer": "ipython3",
   "version": "3.10.8"
  }
 },
 "nbformat": 4,
 "nbformat_minor": 5
}
