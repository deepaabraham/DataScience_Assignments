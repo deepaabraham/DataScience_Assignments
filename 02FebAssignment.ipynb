{
 "cells": [
  {
   "cell_type": "markdown",
   "id": "d1e6d74e-c44c-4ada-a2b7-5cf63eec8a20",
   "metadata": {},
   "source": [
    "1. Tuple is one of the four built in datatypes of Python. The characteristics of tuple are: 1) ordered,2)heterogeneous and they allow duplicate data.\n",
    "Tuples are immutable, hence the data items can't be modified."
   ]
  },
  {
   "cell_type": "markdown",
   "id": "9296fbe9-a3fa-421d-b596-64b722e0417d",
   "metadata": {},
   "source": [
    "2. The two tuple methods are count() and index(). \n",
    "The count() method returns the number of times a specific element appears in a tuple. \n",
    "The index() method returns the first occurrence of a specific element in tuple.\n",
    "\n",
    "    "
   ]
  },
  {
   "cell_type": "code",
   "execution_count": 7,
   "id": "c1a068bd-cf03-465a-a774-95a56acb80f9",
   "metadata": {},
   "outputs": [
    {
     "name": "stdout",
     "output_type": "stream",
     "text": [
      "The count of 2 s: 2\n"
     ]
    }
   ],
   "source": [
    "# Example\n",
    "t1=(1,2,2,3,4)\n",
    "print('The count of 2 s:',t1.count(2))"
   ]
  },
  {
   "cell_type": "code",
   "execution_count": 8,
   "id": "464e198d-1321-4fa2-bd9b-e91167521907",
   "metadata": {},
   "outputs": [
    {
     "name": "stdout",
     "output_type": "stream",
     "text": [
      "The index of 2 s: 1\n"
     ]
    }
   ],
   "source": [
    "# Example\n",
    "t1=(1,2,2,3,4)\n",
    "print('The index of 2 s:',t1.index(2))"
   ]
  },
  {
   "cell_type": "markdown",
   "id": "f2cb35f4-d178-451e-9da7-aab44e02c822",
   "metadata": {},
   "source": [
    "The tuple datatype is immutable, ie.,once assigned, the data items in tuple cannot be changed, hence, there are only two tuple methods. "
   ]
  },
  {
   "cell_type": "markdown",
   "id": "457d9feb-48f0-4672-8d32-6d9439a2339b",
   "metadata": {},
   "source": [
    "3. The set datatype does not allow duplicate items. "
   ]
  },
  {
   "cell_type": "code",
   "execution_count": 5,
   "id": "3cd33ee4-8188-4409-acee-df1ea36a5c7f",
   "metadata": {},
   "outputs": [
    {
     "data": {
      "text/plain": [
       "[1, 2, 3, 4]"
      ]
     },
     "execution_count": 5,
     "metadata": {},
     "output_type": "execute_result"
    }
   ],
   "source": [
    "List = [1, 1, 1, 2, 1, 3, 1, 4, 2, 1, 2, 2, 2, 3, 2, 4, 3, 1, 3, 2, 3, 3, 3, 4, 4, 1, 4, 2, 4, 3, 4, 4]\n",
    "S=set(List)\n",
    "List_new=list(S)\n",
    "List_new"
   ]
  },
  {
   "cell_type": "markdown",
   "id": "879302dc-5bda-4ea1-ae7f-eb00fa117e76",
   "metadata": {},
   "source": [
    "4. The union() method returns a set with all distinct elements from all the sets passed as arguments. This method does not change the original sets.\n"
   ]
  },
  {
   "cell_type": "code",
   "execution_count": 7,
   "id": "4c93e5a6-1d20-4623-98ee-5ec03d9cb490",
   "metadata": {},
   "outputs": [
    {
     "data": {
      "text/plain": [
       "{0, 1, 2, 3, 4, 8, 9}"
      ]
     },
     "execution_count": 7,
     "metadata": {},
     "output_type": "execute_result"
    }
   ],
   "source": [
    "set1={1,2,3,4}\n",
    "set2={8,9,0,1}\n",
    "set3=set1.union(set2)\n",
    "set3"
   ]
  },
  {
   "cell_type": "markdown",
   "id": "903ecf72-e014-4f69-9bc4-c603be6cac55",
   "metadata": {},
   "source": [
    "The update() method updates the current set by adding items from another set. \n",
    "If the same item is present in both sets, only one occurrence of item is kept in the updated set.\n"
   ]
  },
  {
   "cell_type": "code",
   "execution_count": 11,
   "id": "5b3698f1-b1e3-443e-be2c-3e38ed4c3a16",
   "metadata": {},
   "outputs": [
    {
     "data": {
      "text/plain": [
       "{1, 2, 3, 4, 5, 6}"
      ]
     },
     "execution_count": 11,
     "metadata": {},
     "output_type": "execute_result"
    }
   ],
   "source": [
    "set4={1,2,3,4}\n",
    "set5={2,3,5,6}\n",
    "set4.update(set5)\n",
    "# updates the set4 with elements from set5. \n",
    "set4"
   ]
  },
  {
   "cell_type": "markdown",
   "id": "5b8333ac-4bb2-4697-bd3d-1a374313138c",
   "metadata": {},
   "source": [
    "5. A dictionary is a python datatype which stores data in key-value pairs.\n",
    "Example:\n",
    "dict1={'name':'Deepa','rollno':10,'country':'India'}\n",
    "Dictionary contains an unordered collection of data."
   ]
  },
  {
   "cell_type": "markdown",
   "id": "49765fbd-d643-4bcc-8c7c-313ab1e174da",
   "metadata": {},
   "source": [
    "6. We can create nested dictionaries for complex data structures. \n",
    "Nested dictionary can be created by adding values as another dictionary.\n"
   ]
  },
  {
   "cell_type": "code",
   "execution_count": 19,
   "id": "103da3f1-99c9-45e0-8b5a-648418fcd788",
   "metadata": {},
   "outputs": [
    {
     "data": {
      "text/plain": [
       "{'student1': {'name': 'Deepa', 'year': 2023},\n",
       " 'student2': {'name': 'Deepthi', 'year': 2024}}"
      ]
     },
     "execution_count": 19,
     "metadata": {},
     "output_type": "execute_result"
    }
   ],
   "source": [
    "#Example\n",
    "dict4={'student1':{'name':'Deepa','year':2023},'student2':{'name':'Deepthi','year':2024}}\n",
    "dict4"
   ]
  },
  {
   "cell_type": "markdown",
   "id": "d1e109ee-360c-44a4-a16c-2e830244b29e",
   "metadata": {},
   "source": [
    "7. Use Setdefaultmethod for adding key value pairs"
   ]
  },
  {
   "cell_type": "code",
   "execution_count": 10,
   "id": "278c8288-c962-4a6c-a82f-ef3ec26fdb0e",
   "metadata": {},
   "outputs": [
    {
     "data": {
      "text/plain": [
       "{'class': ['BE', 'ME', 'BSc'],\n",
       " 'year': {2020, 2021, 2022},\n",
       " 'topics': ['Python', 'Machine Learning', 'Deep Learning']}"
      ]
     },
     "execution_count": 10,
     "metadata": {},
     "output_type": "execute_result"
    }
   ],
   "source": [
    "L=['Python', 'Machine Learning','Deep Learning']\n",
    "dict={'class':['BE','ME','BSc'],'year':{2020,2021,2022}}\n",
    "dict.setdefault('topics',L)\n",
    "dict"
   ]
  },
  {
   "cell_type": "markdown",
   "id": "029e1822-8d67-4d52-ac21-6688e46c8cf6",
   "metadata": {},
   "source": [
    "8. The three main view objects in dictionaries are 1. keys: which holds the keys of dictionary, 2: values: holds the value\n",
    "3:items: holding key-value pairs"
   ]
  },
  {
   "cell_type": "code",
   "execution_count": 11,
   "id": "3705e11b-7d96-4803-8a0a-d3360a95c3d2",
   "metadata": {},
   "outputs": [],
   "source": [
    "dict1 = {'Sport': 'Cricket' , 'Teams': ['India', 'Australia', 'England', 'South Africa', 'Sri Lanka', 'New Zealand']}\n"
   ]
  },
  {
   "cell_type": "code",
   "execution_count": 12,
   "id": "4c7245f9-7948-41c3-9482-84ac743a6f23",
   "metadata": {},
   "outputs": [
    {
     "data": {
      "text/plain": [
       "dict_keys(['Sport', 'Teams'])"
      ]
     },
     "execution_count": 12,
     "metadata": {},
     "output_type": "execute_result"
    }
   ],
   "source": [
    "dict1.keys()"
   ]
  },
  {
   "cell_type": "code",
   "execution_count": 13,
   "id": "51231afd-9175-47f3-9481-750983a5107f",
   "metadata": {},
   "outputs": [
    {
     "data": {
      "text/plain": [
       "dict_values(['Cricket', ['India', 'Australia', 'England', 'South Africa', 'Sri Lanka', 'New Zealand']])"
      ]
     },
     "execution_count": 13,
     "metadata": {},
     "output_type": "execute_result"
    }
   ],
   "source": [
    "dict1.values()"
   ]
  },
  {
   "cell_type": "code",
   "execution_count": 15,
   "id": "00af9410-2379-46e8-9f3a-741644d1e162",
   "metadata": {},
   "outputs": [
    {
     "data": {
      "text/plain": [
       "dict_items([('Sport', 'Cricket'), ('Teams', ['India', 'Australia', 'England', 'South Africa', 'Sri Lanka', 'New Zealand'])])"
      ]
     },
     "execution_count": 15,
     "metadata": {},
     "output_type": "execute_result"
    }
   ],
   "source": [
    "dict1.items()"
   ]
  },
  {
   "cell_type": "code",
   "execution_count": null,
   "id": "b80c1498-26d3-4c12-9d7a-b521f0c743fc",
   "metadata": {},
   "outputs": [],
   "source": []
  }
 ],
 "metadata": {
  "kernelspec": {
   "display_name": "Python 3 (ipykernel)",
   "language": "python",
   "name": "python3"
  },
  "language_info": {
   "codemirror_mode": {
    "name": "ipython",
    "version": 3
   },
   "file_extension": ".py",
   "mimetype": "text/x-python",
   "name": "python",
   "nbconvert_exporter": "python",
   "pygments_lexer": "ipython3",
   "version": "3.10.8"
  }
 },
 "nbformat": 4,
 "nbformat_minor": 5
}
