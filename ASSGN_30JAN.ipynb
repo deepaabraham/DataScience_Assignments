{
 "cells": [
  {
   "cell_type": "markdown",
   "id": "78e6f544-6a7c-4d72-82fd-3637c20e95a9",
   "metadata": {},
   "source": [
    "#### 1"
   ]
  },
  {
   "cell_type": "code",
   "execution_count": 9,
   "id": "a10d76c7-758c-4558-ae0e-1315a5be6787",
   "metadata": {},
   "outputs": [
    {
     "name": "stdin",
     "output_type": "stream",
     "text": [
      "Enter your percentage of marks 23.3\n"
     ]
    },
    {
     "name": "stdout",
     "output_type": "stream",
     "text": [
      "Your grade is :D\n"
     ]
    }
   ],
   "source": [
    "marks=float(input(\"Enter your percentage of marks\"))\n",
    "if marks > 90:\n",
    "    grade=\"A\"\n",
    "elif marks>80:\n",
    "    grade=\"B\"\n",
    "elif marks>=60:\n",
    "    grade=\"C\"\n",
    "else:\n",
    "    grade=\"D\"\n",
    "print(f\"Your grade is :{grade}\")"
   ]
  },
  {
   "cell_type": "markdown",
   "id": "037648b0-cc32-4abc-9b3b-1d5c0acb6458",
   "metadata": {},
   "source": [
    "### 2"
   ]
  },
  {
   "cell_type": "code",
   "execution_count": 15,
   "id": "46c64c47-49a1-4a66-a41b-52a0e4fa76ed",
   "metadata": {},
   "outputs": [
    {
     "name": "stdin",
     "output_type": "stream",
     "text": [
      "Enter the road price of bike 10000\n"
     ]
    },
    {
     "name": "stdout",
     "output_type": "stream",
     "text": [
      "The road tax to be paid=500.0\n"
     ]
    }
   ],
   "source": [
    "r_price=int(input(\"Enter the road price of bike\"))\n",
    "if r_price >100000:\n",
    "    tax=r_price*15/100\n",
    "elif r_price>50000:\n",
    "    tax=r_price*10/100\n",
    "else:\n",
    "    tax=r_price*5/100\n",
    "    \n",
    "print(f\"The road tax to be paid={tax}\")"
   ]
  },
  {
   "cell_type": "markdown",
   "id": "84cd44a0-9902-4347-87d3-edc0b75c2ed6",
   "metadata": {},
   "source": [
    "### 3"
   ]
  },
  {
   "cell_type": "code",
   "execution_count": 34,
   "id": "11446718-a31f-43a3-93f0-749cdbfb754a",
   "metadata": {},
   "outputs": [
    {
     "name": "stdin",
     "output_type": "stream",
     "text": [
      "Enter the name of City: delhi\n"
     ]
    },
    {
     "name": "stdout",
     "output_type": "stream",
     "text": [
      "The monument in the city Delhi is Red Fort\n"
     ]
    }
   ],
   "source": [
    "city=input(\"Enter the name of City:\")\n",
    "city=city.lower()\n",
    "if city==\"delhi\":\n",
    "    monument=\"Red Fort\"\n",
    "elif city==\"agra\":\n",
    "    monument=\"Taj Mahal\"\n",
    "elif city==\"jaipur\":\n",
    "    monument=\"Jal Mahal\"\n",
    "else:\n",
    "    print(\"Sorry, no monument to display\")\n",
    "    monument=\"Unknown\"\n",
    "print(f\"The monument in the city {city.title()} is {monument}\")"
   ]
  },
  {
   "cell_type": "markdown",
   "id": "db0cac7a-4134-4f1f-a854-b639734a9771",
   "metadata": {},
   "source": [
    "### 4"
   ]
  },
  {
   "cell_type": "code",
   "execution_count": 45,
   "id": "2eca0588-b9a7-4b8b-84af-2df346705bd7",
   "metadata": {},
   "outputs": [
    {
     "name": "stdin",
     "output_type": "stream",
     "text": [
      "Enter the number 60\n"
     ]
    },
    {
     "name": "stdout",
     "output_type": "stream",
     "text": [
      "The 60 can be divided 2 times with 3\n"
     ]
    }
   ],
   "source": [
    "numb=int(input(\"Enter the number\"))\n",
    "num=numb\n",
    "count=0\n",
    "while numb>10:\n",
    "    numb=numb/3\n",
    "    count=count+1\n",
    "print(f\"The {num} can be divided {count} times with 3\")"
   ]
  },
  {
   "cell_type": "markdown",
   "id": "5d5f0235-b1b0-428b-adde-ea64ddb6ea04",
   "metadata": {},
   "source": [
    "#### 5\n",
    "\n",
    "A while loop is used in python when it is needed to execute a block of code as long as a specified condition is true. \n",
    "While loop is used when we dont know, how many times the loop need to be executed and we need to run the loop until some condition is met.\n",
    "\n",
    "count = 0\n",
    "while count < 5:\n",
    "    print(count)\n",
    "    count += 1\n",
    "    \n",
    "When we need to repeatedly ask the user for input until user enters a valid input.\n",
    "\n",
    "user_input = \"\"\n",
    "while user_input.lower() != \"yes\":\n",
    "    user_input = input(\"Do you want to continue? (yes/no): \")\n",
    "    \n",
    "    \n",
    "While using the 'while' loop, it is necessary to ensure that the condition eventually becomes false, otherwise the loop will run indefinitely.\n"
   ]
  },
  {
   "cell_type": "markdown",
   "id": "7c34dcd0-45f7-42d9-87d6-5ff77ed4a4cb",
   "metadata": {},
   "source": [
    "\n",
    "#### 6"
   ]
  },
  {
   "cell_type": "code",
   "execution_count": 54,
   "id": "c10bbb93-fb2f-4e32-9ee1-1a07e69d4927",
   "metadata": {},
   "outputs": [
    {
     "name": "stdout",
     "output_type": "stream",
     "text": [
      "* * * * \n",
      "* * * * \n",
      "* * * * \n",
      "* * * * \n"
     ]
    }
   ],
   "source": [
    "row = 1\n",
    "while row <= 4:\n",
    "    col = 1\n",
    "    while col <= 4:\n",
    "        print(\"*\", end=\" \")\n",
    "        col += 1\n",
    "    print()\n",
    "    row += 1"
   ]
  },
  {
   "cell_type": "code",
   "execution_count": 56,
   "id": "e8e57d0b-224e-475a-b936-061e6607c3b1",
   "metadata": {},
   "outputs": [
    {
     "name": "stdout",
     "output_type": "stream",
     "text": [
      "* \n",
      "* * \n",
      "* * * \n",
      "* * * * \n"
     ]
    }
   ],
   "source": [
    "row = 1\n",
    "while row <= 4:\n",
    "    col = 1\n",
    "    while col <= row:\n",
    "        print(\"*\", end=\" \")\n",
    "        col += 1\n",
    "    print()\n",
    "    row += 1"
   ]
  },
  {
   "cell_type": "code",
   "execution_count": 59,
   "id": "6a800ff2-19f3-4297-8d90-2ae7e397f015",
   "metadata": {},
   "outputs": [
    {
     "name": "stdout",
     "output_type": "stream",
     "text": [
      "* * * * \n",
      "* * * \n",
      "* * \n",
      "* \n"
     ]
    }
   ],
   "source": [
    "row = 1\n",
    "while row <= 4:\n",
    "    col = 1\n",
    "    while col <= 5-row:\n",
    "        print(\"*\", end=\" \")\n",
    "        col += 1\n",
    "    print()\n",
    "    row += 1"
   ]
  },
  {
   "cell_type": "markdown",
   "id": "a98d811a-ca58-47bc-9cc2-e6f92d76f089",
   "metadata": {},
   "source": [
    "### 7"
   ]
  },
  {
   "cell_type": "code",
   "execution_count": null,
   "id": "60481ab6-058a-4798-ac8a-2d3bcc306ace",
   "metadata": {},
   "outputs": [],
   "source": [
    "num=10\n",
    "while num>=1:\n",
    "    print(num, end=\" \")\n",
    "    "
   ]
  }
 ],
 "metadata": {
  "kernelspec": {
   "display_name": "Python 3 (ipykernel)",
   "language": "python",
   "name": "python3"
  },
  "language_info": {
   "codemirror_mode": {
    "name": "ipython",
    "version": 3
   },
   "file_extension": ".py",
   "mimetype": "text/x-python",
   "name": "python",
   "nbconvert_exporter": "python",
   "pygments_lexer": "ipython3",
   "version": "3.10.8"
  }
 },
 "nbformat": 4,
 "nbformat_minor": 5
}
