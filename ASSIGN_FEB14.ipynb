{
 "cells": [
  {
   "cell_type": "markdown",
   "id": "aa0e3190-c2ba-4165-aecc-17aa578e0009",
   "metadata": {},
   "source": [
    "1. Multithreading is a process of running multiple threads simultaneously within a single process \n",
    "sharing the same resources such as memory space.\n",
    "Multithreading in Python is used for improving application responsiveness, handling concurrent tasks, and parallelizing I/O-bound operations. \n",
    "The primary module used to handle threads in Python is the threading module."
   ]
  },
  {
   "cell_type": "markdown",
   "id": "7e72e6fd-b0e0-4379-aaba-c8868ebe3a92",
   "metadata": {},
   "source": [
    "2. The threading module is used to create and manage threads. \n",
    "Threads achieve concurrent execution of the program, allowing different parts of the program to run independently.\n",
    "The threading module provides a straightforward and high-level interface for working with threads in Python.\n",
    "\n",
    "a) active_count() function is used to retrieve the current number of Thread objects that are alive.\n",
    "The activeCount function is part of the threading module and is accessed via threading.active_count().\n",
    "\n",
    "b) current_thread() is a function used to retrieve the current Thread object corresponding to the calling thread. The Thread object represents the thread in which the function or code is currently executing.\n",
    "The currentThread function is accessed using threading.current_thread().\n",
    "\n",
    "c) The enumerate function is used to return a list of all currently alive Thread objects. The function is accessed using threading.enumerate()."
   ]
  },
  {
   "cell_type": "markdown",
   "id": "52e2486b-0e32-492e-90af-ff9e7ec47045",
   "metadata": {},
   "source": [
    "3.\n",
    "a) The run() method defines the code that will be executed when a thread is started. To use this method, make a subclass of the Thread class and override its run() method with the code we want to run in a separate thread.\n",
    "\n",
    "b) start() is used to initiate the execution of a thread. When start() is called on a Thread object, it launches a new thread and invokes the run() method of that thread in a separate execution flow.\n",
    "\n",
    "c) join() method is used to wait for a thread to complete its execution. When join() is called on a Thread object, the program will wait for that thread to finish before proceeding with the next instructions.\n",
    "\n",
    "d)isAlive() method is used to check whether a thread is currently executing (alive) or has completed its execution"
   ]
  },
  {
   "cell_type": "code",
   "execution_count": 6,
   "id": "71cd672a-6fa4-42e6-99b1-859a1a173a0e",
   "metadata": {},
   "outputs": [
    {
     "name": "stdout",
     "output_type": "stream",
     "text": [
      "sq of 0 = 0\n",
      "sq of 1 = 1\n",
      "sq of 2 = 4\n",
      "sq of 3 = 9\n",
      "sq of 4 = 16\n",
      "sq of 5 = 25\n",
      "sq of 6 = 36\n",
      "sq of 7 = 49\n",
      "sq of 8 = 64\n",
      "sq of 9 = 81\n",
      "cub of 0 = 0\n",
      "cub of 1 = 1\n",
      "cub of 2 = 8\n",
      "cub of 3 = 27\n",
      "cub of 4 = 64\n",
      "cub of 5 = 125\n",
      "cub of 6 = 216\n",
      "cub of 7 = 343\n",
      "cub of 8 = 512\n",
      "cub of 9 = 729\n"
     ]
    }
   ],
   "source": [
    "# 4  # Write a python program to create two threads. Thread one must print the list of squares and thread\n",
    "#two must print the list of cubes\n",
    "import threading\n",
    "import time\n",
    "def sq():\n",
    "    for i in range(10):\n",
    "        print(\"sq of %d = %d\" %(i,i**2))\n",
    "        #time.sleep(1)\n",
    "def cub():\n",
    "    for i in range(10):\n",
    "        print(\"cub of %d = %d\" %(i,i**3))\n",
    "        #time.sleep(2)\n",
    "thread1=threading.Thread(target=sq)\n",
    "thread2=threading.Thread(target=cub)\n",
    "\n",
    "thread1.start()\n",
    "thread2.start()\n",
    "     \n"
   ]
  },
  {
   "cell_type": "markdown",
   "id": "48184261-66df-4928-8e27-050bdee5cfbc",
   "metadata": {},
   "source": [
    "5.Advantages and disadvantages of multithreading is given below:\n",
    "\n",
    "Advantages\n",
    "1. Since tasks can be executed in parallel, this leads to improved performance\n",
    "2.Responsiveness: Multithreading is often used to enhance the responsiveness of applications.In graphical user interfaces (GUIs), a separate thread can handle background tasks, ensuring that the user interface remains responsive to user input.\n",
    "\n",
    "3.Resource Sharing: Threads share the same memory space, making it easier to share data between them. \n",
    "\n",
    "4.Resource Utilization : Multithreading can lead to better utilization of available resources, especially in systems with multiple processors or cores\n",
    "\n",
    "Disadvanatges\n",
    "\n",
    "1.Complexity - Multithreading introduces complexity to a program. Coordination and synchronization between threads are crucial to avoid issues like race conditions and deadlocks\n",
    "\n",
    "2.Resource Competition - Threads may compete for resources such as CPU time, leading to contention and potential bottlenecks. Proper synchronization mechanisms, like locks, are necessary to manage resource access.\n",
    "\n",
    "3. Race conditions occur when multiple threads access shared data concurrently, leading to unpredictable behavior. \n",
    "\n",
    "4. Debugging multithreaded programs can be challenging."
   ]
  },
  {
   "cell_type": "markdown",
   "id": "eb508292-4fde-4276-ba1d-79936faa52e9",
   "metadata": {},
   "source": [
    "6.\n",
    "\n",
    "Race conditions: This occurs when two or more threads access shared data concurrently, and the final outcome depends on the timing or interleaving of their execution. This can lead to unpredictable behavior and data corruption. Race conditions typically arise when threads perform operations on shared data without proper synchronization.\n",
    "\n",
    "Deadlocks: Deadlocks:\n",
    "A deadlock occurs when two or more threads are blocked indefinitely, each waiting for the other to release a resource. Deadlocks often arise in multithreaded programs with multiple locks and complex resource dependencies."
   ]
  }
 ],
 "metadata": {
  "kernelspec": {
   "display_name": "Python 3 (ipykernel)",
   "language": "python",
   "name": "python3"
  },
  "language_info": {
   "codemirror_mode": {
    "name": "ipython",
    "version": 3
   },
   "file_extension": ".py",
   "mimetype": "text/x-python",
   "name": "python",
   "nbconvert_exporter": "python",
   "pygments_lexer": "ipython3",
   "version": "3.10.8"
  }
 },
 "nbformat": 4,
 "nbformat_minor": 5
}
