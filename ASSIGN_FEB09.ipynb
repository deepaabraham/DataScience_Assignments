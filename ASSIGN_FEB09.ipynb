{
 "cells": [
  {
   "cell_type": "markdown",
   "id": "8abce267-9295-4b17-bd40-62159b573e2b",
   "metadata": {},
   "source": [
    "Q1, Create a vehicle class with an init method having instance variables as name_of_vehicle, max_speed\n",
    "and average_of_vehicle."
   ]
  },
  {
   "cell_type": "code",
   "execution_count": 12,
   "id": "c4cc9fa0-08ac-491b-9382-8f0f4eb9a584",
   "metadata": {},
   "outputs": [],
   "source": [
    "class vehicle:\n",
    "    def __init__(self,name_of_vehicle,max_speed,average_of_vehicle):\n",
    "        self.name_of_vehicle=name_of_vehicle\n",
    "        self.max_speed=max_speed\n",
    "        self.average_of_vehicle=average_of_vehicle\n",
    "        "
   ]
  },
  {
   "cell_type": "code",
   "execution_count": 13,
   "id": "af0f5e28-b2fb-451e-80df-75ace9bf1f91",
   "metadata": {},
   "outputs": [],
   "source": [
    "obj_vehicle=vehicle(\"Toyota\",160,1200)"
   ]
  },
  {
   "cell_type": "markdown",
   "id": "465caf52-cd71-48b5-a0a7-e81412ec759f",
   "metadata": {},
   "source": [
    "Q2. Create a child class car from the vehicle class created in Que 1, which will inherit the vehicle class. Create a method named seating_capacity which takes capacity as an argument and returns the name of the vehicle and its seating capacity."
   ]
  },
  {
   "cell_type": "code",
   "execution_count": 35,
   "id": "dba6b3f1-3642-432c-b34a-b83ec0bd2e85",
   "metadata": {},
   "outputs": [],
   "source": [
    "class car(vehicle):\n",
    "    def __init__(self,name_of_vehicle,max_speed,average_of_vehicle):\n",
    "        vehicle.__init__(self,name_of_vehicle,max_speed,average_of_vehicle)\n",
    "        \n",
    "    def  seating_capacity(self, capacity):\n",
    "        self.capacity=capacity\n",
    "        return self.capacity,self.name_of_vehicle"
   ]
  },
  {
   "cell_type": "code",
   "execution_count": 36,
   "id": "c30ffd41-acf5-4edd-a5cc-088583af1798",
   "metadata": {},
   "outputs": [],
   "source": [
    "obj_car=car(\"maruti\",120,1400)"
   ]
  },
  {
   "cell_type": "code",
   "execution_count": 37,
   "id": "adb6b922-b96d-4325-88f4-a9a23396c683",
   "metadata": {},
   "outputs": [
    {
     "data": {
      "text/plain": [
       "(4, 'maruti')"
      ]
     },
     "execution_count": 37,
     "metadata": {},
     "output_type": "execute_result"
    }
   ],
   "source": [
    "obj_car.seating_capacity(4)"
   ]
  },
  {
   "cell_type": "markdown",
   "id": "7d3bf8dc-94f6-4747-83dc-34d290593147",
   "metadata": {},
   "source": [
    "Q3. What is multiple inheritance? Write a python code to demonstrate multiple inheritance."
   ]
  },
  {
   "cell_type": "markdown",
   "id": "67b04232-8edd-4345-aca0-2c2bca90920b",
   "metadata": {},
   "source": [
    "In multiple inheritance, a class inherits from more than one base class. This means that a child class can inherit attributes and methods from multiple parent classes. \n",
    "\n",
    "Example is given below. A class University is inherited from both internal and external. Total marks are calculated by adding both internal and external."
   ]
  },
  {
   "cell_type": "code",
   "execution_count": 55,
   "id": "c32b062d-8dad-40be-9d28-ece2f8a19df2",
   "metadata": {},
   "outputs": [],
   "source": [
    "class Internal:\n",
    "    def __init__(self,internalmarks):\n",
    "        self.internalmarks=internalmarks\n",
    "    def internal_marks():\n",
    "        print(\"Marks for internals\")\n",
    "\n",
    "class External:\n",
    "    def external_marks():\n",
    "        print(\"Marks for externals\") \n",
    "    def __init__(self,externalmarks):\n",
    "        self.externalmarks=externalmarks\n",
    "\n",
    "class University(internal,external):\n",
    "    def __init__(self,internalmarks,externalmarks):\n",
    "        Internal.__init__(self,internalmarks)\n",
    "        External.__init__(self,externalmarks)\n",
    "        self.total=self.internalmarks+self.externalmarks\n",
    "    def return_marks(self):\n",
    "        return self.total\n",
    "        "
   ]
  },
  {
   "cell_type": "code",
   "execution_count": 56,
   "id": "f4c876c0-2a8e-42ca-b04e-e1d2c2b65674",
   "metadata": {},
   "outputs": [],
   "source": [
    "obj_univ=University(internalmarks=45,externalmarks=90)"
   ]
  },
  {
   "cell_type": "code",
   "execution_count": 58,
   "id": "776a7f3d-4baa-4c37-9c52-808869b1a93a",
   "metadata": {},
   "outputs": [
    {
     "data": {
      "text/plain": [
       "135"
      ]
     },
     "execution_count": 58,
     "metadata": {},
     "output_type": "execute_result"
    }
   ],
   "source": [
    "obj_univ.return_marks()"
   ]
  },
  {
   "cell_type": "markdown",
   "id": "22fceafd-4476-4b61-98b3-01337f4f9fed",
   "metadata": {},
   "source": [
    "Q4. What are getter and setter in python? Create a class and create a getter and a setter method in this\n",
    "class."
   ]
  },
  {
   "cell_type": "code",
   "execution_count": null,
   "id": "bc8c1a3e-c219-43b2-9049-fadc892d0881",
   "metadata": {},
   "outputs": [],
   "source": [
    "The getter and setter methods are used to control the access to attributes of the class. These methods provide way to access and set the\n",
    "values of private and protected variables."
   ]
  },
  {
   "cell_type": "code",
   "execution_count": 2,
   "id": "37a3065c-c4e3-4a4e-9d30-715dfc09f75c",
   "metadata": {},
   "outputs": [
    {
     "name": "stdout",
     "output_type": "stream",
     "text": [
      "Width: 5, Height: 8\n",
      "Updated Width: 10, Updated Height: 21\n",
      "Area: 210\n"
     ]
    }
   ],
   "source": [
    "class Rectangle:\n",
    "    def __init__(self, width, height):\n",
    "        self._width = width\n",
    "        self._height = height\n",
    "#getter for wisdth\n",
    "    @property\n",
    "    def width(self):\n",
    "        return self._width\n",
    "#setter for width\n",
    "    @width.setter\n",
    "    def width(self, new_width):\n",
    "        if new_width > 0:\n",
    "            self._width = new_width\n",
    "        else:\n",
    "            print(\"Invalid input. Width should be a positive number.\")\n",
    "\n",
    "    @property\n",
    "    def height(self):\n",
    "        return self._height\n",
    "\n",
    "    @height.setter\n",
    "    def height(self, new_height):\n",
    "        if new_height > 0:\n",
    "            self._height = new_height\n",
    "        else:\n",
    "            print(\"Invalid input. Height should be a positive number.\")\n",
    "\n",
    "    @property\n",
    "    def area(self):\n",
    "        return self._width * self._height\n",
    "\n",
    "# Example usage:\n",
    "rectangle = Rectangle(width=5, height=8)\n",
    "\n",
    "# Using properties\n",
    "print(f\"Width: {rectangle.width}, Height: {rectangle.height}\")\n",
    "\n",
    "# Using setters through properties\n",
    "rectangle.width = 10\n",
    "rectangle.height = 21\n",
    "\n",
    "# Displaying updated values using properties\n",
    "print(f\"Updated Width: {rectangle.width}, Updated Height: {rectangle.height}\")\n",
    "\n",
    "# Accessing the area property\n",
    "area = rectangle.area\n",
    "print(f\"Area: {area}\")\n"
   ]
  },
  {
   "cell_type": "markdown",
   "id": "53e1d6d5-8325-4cad-b3f6-6752cb6613b4",
   "metadata": {},
   "source": [
    "Q5.What is method overriding in python? Write a python code to demonstrate method overriding."
   ]
  },
  {
   "cell_type": "markdown",
   "id": "c11fb024-a5d5-412a-bec1-d574b3c398fd",
   "metadata": {},
   "source": [
    "In method overriding, a subclass provides a specific implementation of a method that is already defined in its superclass. When subclass\n",
    "defines a method with same name and paramters as method in its superclass, the method overrides the method in subclass.\n"
   ]
  },
  {
   "cell_type": "code",
   "execution_count": null,
   "id": "ad0ebb2a-6bb0-4e9d-81d8-cbc8085c5969",
   "metadata": {},
   "outputs": [],
   "source": []
  }
 ],
 "metadata": {
  "kernelspec": {
   "display_name": "Python 3 (ipykernel)",
   "language": "python",
   "name": "python3"
  },
  "language_info": {
   "codemirror_mode": {
    "name": "ipython",
    "version": 3
   },
   "file_extension": ".py",
   "mimetype": "text/x-python",
   "name": "python",
   "nbconvert_exporter": "python",
   "pygments_lexer": "ipython3",
   "version": "3.10.8"
  }
 },
 "nbformat": 4,
 "nbformat_minor": 5
}
