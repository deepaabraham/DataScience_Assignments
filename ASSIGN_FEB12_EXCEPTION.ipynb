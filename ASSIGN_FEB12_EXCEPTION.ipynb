{
 "cells": [
  {
   "cell_type": "markdown",
   "id": "1e2dbe56-426f-41e8-8a22-bdb8f708d4ea",
   "metadata": {},
   "source": [
    "1. It is advisable to use the Exception class while using the custom exception. \n",
    "It allows the custom exception to benefit from the features and behaviors defined in the base class. \n",
    "When a custom exception derived from Exception, we can catch it along with other exceptions using a generic except block or handle it specifically based on its type. Following this convention ensures that custom exceptions can be used seamlessly with various libraries and tools that rely on standard exception handling."
   ]
  },
  {
   "cell_type": "markdown",
   "id": "bc04b93f-d239-432e-ab5e-24b6c026148a",
   "metadata": {},
   "source": [
    "#### 2"
   ]
  },
  {
   "cell_type": "code",
   "execution_count": 16,
   "id": "6c0e71e1-4e1a-458a-8403-3457624f9547",
   "metadata": {},
   "outputs": [
    {
     "name": "stdout",
     "output_type": "stream",
     "text": [
      "Exception\n",
      "GeneratorExit\n",
      "SystemExit\n",
      "KeyboardInterrupt\n",
      "CancelledError\n",
      "AbortThread\n"
     ]
    }
   ],
   "source": [
    "for subclass in BaseException.__subclasses__():\n",
    "    print(subclass.__name__)\n"
   ]
  },
  {
   "cell_type": "markdown",
   "id": "be3a373a-847b-4c2a-a2eb-51e004e7090e",
   "metadata": {},
   "source": [
    "#### 3"
   ]
  },
  {
   "cell_type": "markdown",
   "id": "5bda5a83-7229-460b-862d-5613d974a726",
   "metadata": {},
   "source": [
    "The ArithmeticError class is a base class for exceptions that are raised for arithmetic-related errors.\n",
    "The following errors are directly derived from this class.\n",
    "\n",
    "OverflowError:\n",
    "Raised when the result of an arithmetic operation is too large to be represented within the limits of the data type.\n",
    "\n",
    "ZeroDivisionError:\n",
    "Raised when division or modulo operation is performed with zero as the divisor.\n",
    "\n",
    "FloatingPointError:\n",
    "Raised when a floating-point calculation error occurs, such as overflow or underflow during a mathematical operation."
   ]
  },
  {
   "cell_type": "code",
   "execution_count": 1,
   "id": "1c6ca157-33ea-4972-a3f7-6bc8a9e96f48",
   "metadata": {},
   "outputs": [
    {
     "name": "stdout",
     "output_type": "stream",
     "text": [
      "Error: this is zerodivision error - division by zero\n"
     ]
    }
   ],
   "source": [
    "## Examples \n",
    "## Zero division error\n",
    "try:\n",
    "    result = 5 / 0  # Attempting to divide by zero\n",
    "except ZeroDivisionError as e:\n",
    "    print(f\"Error: this is zerodivision error - {e}\")"
   ]
  },
  {
   "cell_type": "code",
   "execution_count": 6,
   "id": "dec6d8f0-0dc1-4a37-8468-28f75a3ed273",
   "metadata": {},
   "outputs": [
    {
     "name": "stdout",
     "output_type": "stream",
     "text": [
      "Error: Error while calculating large number::: math range error\n"
     ]
    }
   ],
   "source": [
    "###  Overflow error\n",
    "# Tryingto calculate the exponential of a very large number\n",
    "import math\n",
    "\n",
    "try:\n",
    "    result = math.exp(10000) \n",
    "except OverflowError as e:\n",
    "    print(f\"Error: Error while calculating large number::: {e}\")\n"
   ]
  },
  {
   "cell_type": "markdown",
   "id": "e3dde36f-2c27-4661-8b97-5adbfd5ac460",
   "metadata": {},
   "source": [
    "#### 4"
   ]
  },
  {
   "cell_type": "markdown",
   "id": "cb15aed9-2960-4751-bde3-94ad7aa02226",
   "metadata": {},
   "source": [
    "LookupError is a subclass of the Exception class and serves as a general category for lookup-related error\n",
    "when a key or index used to access an element in mapping sequence is not found."
   ]
  },
  {
   "cell_type": "markdown",
   "id": "e55102a6-20fe-4911-8cc1-ba636efddebf",
   "metadata": {},
   "source": [
    "KeyError: Raised when a dictionary key is not found."
   ]
  },
  {
   "cell_type": "code",
   "execution_count": 9,
   "id": "41956e09-a340-4d61-92f3-b4db80a305a0",
   "metadata": {},
   "outputs": [
    {
     "name": "stdout",
     "output_type": "stream",
     "text": [
      "Error: The key has not found - 'duck'\n"
     ]
    }
   ],
   "source": [
    "my_dict = {'apple': 1, 'banana': 2, 'carrot': 3}\n",
    "# Attempting to access a key that doesn't exist\n",
    "try:\n",
    "    value = my_dict['duck']  \n",
    "except KeyError as e:\n",
    "    print(f\"Error: The key has not found - {e}\")\n"
   ]
  },
  {
   "cell_type": "markdown",
   "id": "d3bd3d38-1ef3-4328-b9f7-30ef99c75b05",
   "metadata": {},
   "source": [
    "IndexError:\n",
    "Raised when trying to access an index that is outside the bounds of a sequence  like in  list, tuple, string."
   ]
  },
  {
   "cell_type": "code",
   "execution_count": 12,
   "id": "dc112b3a-6197-4022-a274-bbbc23ad3eee",
   "metadata": {},
   "outputs": [
    {
     "name": "stdout",
     "output_type": "stream",
     "text": [
      "Error: Cant access the index - list index out of range\n"
     ]
    }
   ],
   "source": [
    "my_list = [1, 2, 3, 4, 5]\n",
    "# Attempting to access an index beyond the list's length\n",
    "try:\n",
    "    element = my_list[10]  \n",
    "except IndexError as e:\n",
    "    print(f\"Error: Cant access the index - {e}\")\n"
   ]
  },
  {
   "cell_type": "markdown",
   "id": "71f6c786-83bb-46c8-9f43-3ef7c0462cf2",
   "metadata": {},
   "source": [
    "#### 5"
   ]
  },
  {
   "cell_type": "markdown",
   "id": "b6b5c038-0802-454f-a398-db1c76aa3d06",
   "metadata": {},
   "source": [
    "ImportError is a base class for exceptions that occur when an import statement cannot successfully import a module. \n"
   ]
  },
  {
   "cell_type": "code",
   "execution_count": 15,
   "id": "b750f20d-484a-43b1-983c-803b3b4cf2b7",
   "metadata": {},
   "outputs": [
    {
     "name": "stdout",
     "output_type": "stream",
     "text": [
      "Error: Not found  - No module named 'module1'\n"
     ]
    }
   ],
   "source": [
    "# Trying to import a module that doesn't exist\n",
    "try:\n",
    "    import module1  \n",
    "except ImportError as e:\n",
    "    print(f\"Error: Not found  - {e}\")\n"
   ]
  },
  {
   "cell_type": "markdown",
   "id": "2afbfd5f-2ba3-49fc-a4ce-f646429508eb",
   "metadata": {},
   "source": [
    "ModuleNotFoundError is a subclass of ImportError. It is raised when a module is not found.\n"
   ]
  },
  {
   "cell_type": "code",
   "execution_count": 18,
   "id": "498e3e2b-cc4e-4445-9b32-ff1bf54d7670",
   "metadata": {},
   "outputs": [
    {
     "name": "stdout",
     "output_type": "stream",
     "text": [
      "Error: - No module named 'module2'\n"
     ]
    }
   ],
   "source": [
    "try:\n",
    "    import module2  # Attempting to import a module that doesn't exist\n",
    "except ModuleNotFoundError as e:\n",
    "    print(f\"Error: - {e}\")"
   ]
  },
  {
   "cell_type": "markdown",
   "id": "029c82fd-ccd1-4d19-ada6-c802b8eee05c",
   "metadata": {},
   "source": [
    "#### 6"
   ]
  },
  {
   "cell_type": "markdown",
   "id": "c2ab3b41-1fea-4ddd-a230-25646c295259",
   "metadata": {},
   "source": [
    "Following are some best practices for exception handling in Python\n",
    "|"
   ]
  },
  {
   "cell_type": "code",
   "execution_count": 23,
   "id": "35f09512-d4bd-422f-b432-7ee9337fc122",
   "metadata": {},
   "outputs": [
    {
     "name": "stdout",
     "output_type": "stream",
     "text": [
      "division by zero\n"
     ]
    }
   ],
   "source": [
    "# 1. Use always specific exceptions. \n",
    "#This allows to handle different types of exceptions differently and provides more accurate error diagnosis.\n",
    "# As an example, instead of using general exception class, using ZeroDivisionError \n",
    "try:\n",
    "    10/0\n",
    "except ZeroDivisionError as ze:\n",
    "    print(ze)\n"
   ]
  },
  {
   "cell_type": "code",
   "execution_count": 24,
   "id": "d8d11fb3-0617-4633-8904-258060b371b8",
   "metadata": {},
   "outputs": [
    {
     "name": "stdout",
     "output_type": "stream",
     "text": [
      "this is my zero division error, I am getting division by zero\n"
     ]
    }
   ],
   "source": [
    "# 2. Print always a valid a message.\n",
    "try:\n",
    "    10/0\n",
    "except ZeroDivisionError as ze:\n",
    "    print(\"this is my zero division error, I am getting\",ze)\n"
   ]
  },
  {
   "cell_type": "code",
   "execution_count": 25,
   "id": "903203b8-43f8-4777-8f12-c62bfb2ea220",
   "metadata": {},
   "outputs": [],
   "source": [
    "# 3. Always try to log, since the messages printed on console are temporary, need to save the error messages to a logfile\n",
    "import logging\n",
    "logging.basicConfig(filename=\"error.log\",level=logging.ERROR)\n",
    "try:\n",
    "    10/0\n",
    "except ZeroDivisionError as ze:\n",
    "    logging.error(\"this is my zero division error {}\".format(ze))"
   ]
  },
  {
   "cell_type": "code",
   "execution_count": null,
   "id": "7fd25a09-8d90-4467-a5b1-f1d856020a29",
   "metadata": {},
   "outputs": [],
   "source": [
    "# 4 Handle Specific Errors First:\n",
    "#Order your except blocks from the most specific to the most general.\n",
    "#Python will execute the first block that matches the exception type, so the order matters.\n",
    "try:\n",
    "    # code that may raise an exception\n",
    "    #specific except block must come first\n",
    "except SpecificError as e:\n",
    "    # handle SpecificError\n",
    "except GeneralError as e:\n",
    "    # handle GeneralError\n"
   ]
  },
  {
   "cell_type": "code",
   "execution_count": 27,
   "id": "c906e124-efa6-4ad4-857e-ab90f89cbce9",
   "metadata": {},
   "outputs": [],
   "source": [
    "# 5. #Prepare a proper documentation"
   ]
  },
  {
   "cell_type": "code",
   "execution_count": 28,
   "id": "b4f20dfd-fb1a-401f-a580-644360de7310",
   "metadata": {},
   "outputs": [],
   "source": [
    "# 6 # Clean up all the resources\n",
    "try:\n",
    "    with open(\"test.txt\",\"w\") as f:\n",
    "        f.write(\"this is my msg to file\")\n",
    "except FileNotFoundError as e:\n",
    "    logging.error(\"this is my zero division error {}\".format(e))\n",
    "finally:\n",
    "    f.close()\n",
    "    \n",
    "# the f.close() using finally makes sure that the file for logging is closed whether the exception is raised or not"
   ]
  },
  {
   "cell_type": "code",
   "execution_count": null,
   "id": "7492cfa5-594c-4164-a2b3-e943a16c7a47",
   "metadata": {},
   "outputs": [],
   "source": []
  }
 ],
 "metadata": {
  "kernelspec": {
   "display_name": "Python 3 (ipykernel)",
   "language": "python",
   "name": "python3"
  },
  "language_info": {
   "codemirror_mode": {
    "name": "ipython",
    "version": 3
   },
   "file_extension": ".py",
   "mimetype": "text/x-python",
   "name": "python",
   "nbconvert_exporter": "python",
   "pygments_lexer": "ipython3",
   "version": "3.10.8"
  }
 },
 "nbformat": 4,
 "nbformat_minor": 5
}
